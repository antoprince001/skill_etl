{
 "cells": [
  {
   "cell_type": "code",
   "execution_count": 1,
   "id": "8057e1c6",
   "metadata": {},
   "outputs": [
    {
     "name": "stderr",
     "output_type": "stream",
     "text": [
      "Setting default log level to \"WARN\".\n",
      "To adjust logging level use sc.setLogLevel(newLevel). For SparkR, use setLogLevel(newLevel).\n"
     ]
    },
    {
     "name": "stdout",
     "output_type": "stream",
     "text": [
      "23/04/16 16:33:48 WARN NativeCodeLoader: Unable to load native-hadoop library for your platform... using builtin-java classes where applicable\n"
     ]
    }
   ],
   "source": [
    "from pyspark.sql import SparkSession\n",
    "spark = SparkSession.builder.appName('com.spark-analysis').getOrCreate()"
   ]
  },
  {
   "cell_type": "code",
   "execution_count": 6,
   "id": "121c03bf",
   "metadata": {},
   "outputs": [],
   "source": [
    "FILE_PATH=\"/Users/antonyprincej/PycharmProjects/skill_graph/processed/data%20engineer%20india\""
   ]
  },
  {
   "cell_type": "code",
   "execution_count": 10,
   "id": "0ff82186",
   "metadata": {},
   "outputs": [],
   "source": [
    "skills_df = spark.read.format('parquet')\\\n",
    "            .load(FILE_PATH)"
   ]
  },
  {
   "cell_type": "code",
   "execution_count": 11,
   "id": "69ad6e89",
   "metadata": {},
   "outputs": [
    {
     "name": "stdout",
     "output_type": "stream",
     "text": [
      "root\n",
      " |-- description: string (nullable = true)\n",
      " |-- title: string (nullable = true)\n",
      " |-- via: string (nullable = true)\n",
      " |-- id: long (nullable = true)\n",
      " |-- role: string (nullable = true)\n",
      "\n"
     ]
    }
   ],
   "source": [
    "skills_df.printSchema()"
   ]
  },
  {
   "cell_type": "code",
   "execution_count": 14,
   "id": "0c85f204",
   "metadata": {},
   "outputs": [
    {
     "name": "stdout",
     "output_type": "stream",
     "text": [
      "+--------------------+-----------------+----------+---+--------------------+\n",
      "|         description|            title|       via| id|                role|\n",
      "+--------------------+-----------------+----------+---+--------------------+\n",
      "|• Job type:FTE/W2...|Sr. Data Engineer| Glassdoor|  0|data%20engineer%2...|\n",
      "+--------------------+-----------------+----------+---+--------------------+\n",
      "only showing top 1 row\n",
      "\n"
     ]
    }
   ],
   "source": [
    "skills_df.show(1)"
   ]
  },
  {
   "cell_type": "code",
   "execution_count": 15,
   "id": "b303bd64",
   "metadata": {},
   "outputs": [
    {
     "data": {
      "text/plain": [
       "Column<'description'>"
      ]
     },
     "execution_count": 15,
     "metadata": {},
     "output_type": "execute_result"
    }
   ],
   "source": [
    "skills_df[\"description\"]"
   ]
  },
  {
   "cell_type": "code",
   "execution_count": 22,
   "id": "064d458c",
   "metadata": {},
   "outputs": [
    {
     "name": "stdout",
     "output_type": "stream",
     "text": [
      "+--------------------+\n",
      "|         description|\n",
      "+--------------------+\n",
      "|• Job type:FTE/W2...|\n",
      "|Company Descripti...|\n",
      "|Data engineers ar...|\n",
      "+--------------------+\n",
      "only showing top 3 rows\n",
      "\n"
     ]
    }
   ],
   "source": [
    "skills_df.select(\"description\").show(3)"
   ]
  },
  {
   "cell_type": "code",
   "execution_count": null,
   "id": "9a034c67",
   "metadata": {},
   "outputs": [],
   "source": []
  }
 ],
 "metadata": {
  "kernelspec": {
   "display_name": "Python 3 (ipykernel)",
   "language": "python",
   "name": "python3"
  },
  "language_info": {
   "codemirror_mode": {
    "name": "ipython",
    "version": 3
   },
   "file_extension": ".py",
   "mimetype": "text/x-python",
   "name": "python",
   "nbconvert_exporter": "python",
   "pygments_lexer": "ipython3",
   "version": "3.10.6"
  }
 },
 "nbformat": 4,
 "nbformat_minor": 5
}
