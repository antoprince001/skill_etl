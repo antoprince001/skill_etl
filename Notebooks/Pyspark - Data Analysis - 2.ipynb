{
 "cells": [
  {
   "cell_type": "code",
   "execution_count": 1,
   "id": "1bdf7f05",
   "metadata": {},
   "outputs": [
    {
     "name": "stderr",
     "output_type": "stream",
     "text": [
      "Setting default log level to \"WARN\".\n",
      "To adjust logging level use sc.setLogLevel(newLevel). For SparkR, use setLogLevel(newLevel).\n"
     ]
    },
    {
     "name": "stdout",
     "output_type": "stream",
     "text": [
      "23/02/11 13:13:11 WARN NativeCodeLoader: Unable to load native-hadoop library for your platform... using builtin-java classes where applicable\n"
     ]
    }
   ],
   "source": [
    "from pyspark.sql import SparkSession\n",
    "spark = SparkSession.builder.appName('com.spark-analysis').getOrCreate()"
   ]
  },
  {
   "cell_type": "code",
   "execution_count": 2,
   "id": "da95fd18",
   "metadata": {},
   "outputs": [
    {
     "name": "stderr",
     "output_type": "stream",
     "text": [
      "                                                                                \r"
     ]
    }
   ],
   "source": [
    "jobs_df = spark.read.format('csv')\\\n",
    "            .options(header='true',inferSchema = 'true')\\\n",
    "            .load('/Users/antonyprincej/projects/pyspark-notebooks/Data/Home/sdf/marketing_sample_for_naukri_com-jobs__20190701_20190830__30k_data.csv')"
   ]
  },
  {
   "cell_type": "code",
   "execution_count": 3,
   "id": "c4f738a7",
   "metadata": {},
   "outputs": [
    {
     "name": "stdout",
     "output_type": "stream",
     "text": [
      "+--------------------+-------------------+--------------------+--------------------+-----------------------+--------------------+--------------------+---------+--------------------+--------------------+--------------------+\n",
      "|             Uniq Id|    Crawl Timestamp|           Job Title|          Job Salary|Job Experience Required|          Key Skills|       Role Category| Location|     Functional Area|            Industry|                Role|\n",
      "+--------------------+-------------------+--------------------+--------------------+-----------------------+--------------------+--------------------+---------+--------------------+--------------------+--------------------+\n",
      "|9be62c49a0b7ebe98...|2019-07-05 07:16:07| Digital Media Pl...| Not Disclosed by...|             5 - 10 yrs| Media Planning| ...|         Advertising|   Mumbai|Marketing , Adver...|Advertising, PR, ...|Media Planning Ex...|\n",
      "|3c52d436e39f596b2...|2019-07-06 13:34:50| Online Bidding E...| Not Disclosed by...|              2 - 5 yrs| pre sales| closi...|        Retail Sales|Pune,Pune|Sales , Retail , ...|IT-Software, Soft...|Sales Executive/O...|\n",
      "|ffad8a2396c60be2b...|2019-08-05 21:20:44| Trainee Research...| Not Disclosed by...|              0 - 1 yrs| Computer science...|                 R&D|  Gurgaon|Engineering Desig...|Recruitment, Staf...|       R&D Executive|\n",
      "|7b921f51b5c2fb862...|2019-08-05 21:01:56|   Technical Support| 2,00,000 - 4,00,...|              0 - 5 yrs|   Technical Support|Admin/Maintenance...|   Mumbai|IT Software - App...|IT-Software, Soft...|Technical Support...|\n",
      "|2d8b7d44e138a54d5...|2019-07-05 08:18:29| Software Test En...| Not Disclosed by...|              2 - 5 yrs| manual testing| ...|Programming & Design|Hyderabad|IT Software - QA ...|IT-Software, Soft...|    Testing Engineer|\n",
      "+--------------------+-------------------+--------------------+--------------------+-----------------------+--------------------+--------------------+---------+--------------------+--------------------+--------------------+\n",
      "only showing top 5 rows\n",
      "\n"
     ]
    }
   ],
   "source": [
    "jobs_df.show(5)"
   ]
  },
  {
   "cell_type": "code",
   "execution_count": 4,
   "id": "7b4a2fc3",
   "metadata": {},
   "outputs": [
    {
     "name": "stdout",
     "output_type": "stream",
     "text": [
      "+--------------------+\n",
      "|          Key Skills|\n",
      "+--------------------+\n",
      "| Media Planning| ...|\n",
      "| pre sales| closi...|\n",
      "| Computer science...|\n",
      "|   Technical Support|\n",
      "| manual testing| ...|\n",
      "| adobe experience...|\n",
      "| channel partners...|\n",
      "| TFS| Azure| Git|...|\n",
      "|                 Bde|\n",
      "| technical suppor...|\n",
      "| secretary| execu...|\n",
      "| website| web ana...|\n",
      "| operations| work...|\n",
      "| Oracle IDAM|OIM|OAM|\n",
      "| digital marketin...|\n",
      "| instrumentation ...|\n",
      "| Help Desk| Custo...|\n",
      "| Report Generatio...|\n",
      "| Copyright| Email...|\n",
      "| C#| MS Dynamics ...|\n",
      "+--------------------+\n",
      "only showing top 20 rows\n",
      "\n"
     ]
    }
   ],
   "source": [
    "jobs_df.select(\"Key Skills\").show()"
   ]
  },
  {
   "cell_type": "code",
   "execution_count": 5,
   "id": "529d5383",
   "metadata": {},
   "outputs": [
    {
     "name": "stdout",
     "output_type": "stream",
     "text": [
      "+----+\n",
      "|Role|\n",
      "+----+\n",
      "+----+\n",
      "\n"
     ]
    }
   ],
   "source": [
    "from pyspark.sql.functions import col\n",
    "\n",
    "jobs_df.select(\"Role\").where(col(\"Role\") == \"Data Scientist\").show()"
   ]
  },
  {
   "cell_type": "code",
   "execution_count": 6,
   "id": "9f4e9ef1",
   "metadata": {},
   "outputs": [
    {
     "name": "stderr",
     "output_type": "stream",
     "text": [
      "\r",
      "[Stage 6:>                                                          (0 + 3) / 3]\r"
     ]
    },
    {
     "name": "stdout",
     "output_type": "stream",
     "text": [
      "+--------------------+----------+\n",
      "|                Role|Role count|\n",
      "+--------------------+----------+\n",
      "|Assistant Manager...|        64|\n",
      "|        Ground Staff|         6|\n",
      "|    Product Designer|        16|\n",
      "|Head / VP / GM-Ta...|         2|\n",
      "|        Cardiologist|         5|\n",
      "|         RF Engineer|         5|\n",
      "|   Financial Analyst|        90|\n",
      "|Team Lead/Technic...|       847|\n",
      "|Tour Management M...|         6|\n",
      "|Database Architec...|        67|\n",
      "|Allegis Group Ind...|         1|\n",
      "|           Webmaster|        52|\n",
      "|  Sales / BD Manager|        68|\n",
      "|Structural Engine...|         4|\n",
      "|    Treasury Manager|        13|\n",
      "|SBU/Profit Center...|         5|\n",
      "|Mechanical Engine...|         8|\n",
      "|At TEKsystems, we...|         1|\n",
      "|Service Delivery ...|        17|\n",
      "|        Project Lead|        57|\n",
      "+--------------------+----------+\n",
      "only showing top 20 rows\n",
      "\n"
     ]
    },
    {
     "name": "stderr",
     "output_type": "stream",
     "text": [
      "\r",
      "                                                                                \r"
     ]
    }
   ],
   "source": [
    "from pyspark.sql.functions import count\n",
    "\n",
    "jobs_df.groupBy(\"Role\").agg(count(\"Role\").alias(\"Role count\")).show()"
   ]
  },
  {
   "cell_type": "code",
   "execution_count": 7,
   "id": "bbde4531",
   "metadata": {},
   "outputs": [
    {
     "name": "stdout",
     "output_type": "stream",
     "text": [
      "+--------------------+-------------------+\n",
      "|       Role Category|Role Category count|\n",
      "+--------------------+-------------------+\n",
      "| After Sales Service|                 20|\n",
      "|  Investment Banking|                 43|\n",
      "|\"Xoriant Corporat...|                  1|\n",
      "|Magma Fincorp Lim...|                  1|\n",
      "|             Telecom|                 17|\n",
      "|Operations/Processes|                 18|\n",
      "|Allegis Group Ind...|                  1|\n",
      "|At TEKsystems, we...|                  1|\n",
      "|       Card Products|                 10|\n",
      "|Programming & Design|               8550|\n",
      "|               Voice|               2384|\n",
      "|\"* A US based $4....|                  2|\n",
      "|Interaction with ...|                  1|\n",
      "|Saisun Outsourcin...|                  1|\n",
      "|            Teachers|                329|\n",
      "|Mutual Funds/Fund...|                 30|\n",
      "|Language Teachers...|                 11|\n",
      "|Vishwa Management...|                  1|\n",
      "|         Engineering|                  3|\n",
      "|     Food & Beverage|                146|\n",
      "+--------------------+-------------------+\n",
      "only showing top 20 rows\n",
      "\n"
     ]
    }
   ],
   "source": [
    "jobs_df.groupBy(\"Role Category\").agg(count(\"Role Category\").alias(\"Role Category count\")).show()"
   ]
  },
  {
   "cell_type": "code",
   "execution_count": 8,
   "id": "f3ebdae6",
   "metadata": {},
   "outputs": [
    {
     "name": "stdout",
     "output_type": "stream",
     "text": [
      "+--------------------+-------------------+--------------------+--------------------+-----------------------+--------------------+--------------------+--------------------+--------------------+--------------------+--------------------+\n",
      "|             Uniq Id|    Crawl Timestamp|           Job Title|          Job Salary|Job Experience Required|          Key Skills|       Role Category|            Location|     Functional Area|            Industry|                Role|\n",
      "+--------------------+-------------------+--------------------+--------------------+-----------------------+--------------------+--------------------+--------------------+--------------------+--------------------+--------------------+\n",
      "|2d8b7d44e138a54d5...|2019-07-05 08:18:29| Software Test En...| Not Disclosed by...|              2 - 5 yrs| manual testing| ...|Programming & Design|           Hyderabad|IT Software - QA ...|IT-Software, Soft...|    Testing Engineer|\n",
      "|c9628ea8d9cfd2ca7...|2019-08-05 09:29:27| Opening For Adob...| 7,00,000 - 17,00...|              5 - 7 yrs| adobe experience...|Programming & Design|                Pune|IT Software - App...|IT-Software, Soft...|      System Analyst|\n",
      "|9642bed00e26183e4...|2019-08-04 09:01:17| Opportunity For ...| Not Disclosed by...|             9 - 14 yrs| TFS| Azure| Git|...|Programming & Design|           Hyderabad|IT Software - App...|IT-Software, Soft...| Technical Architect|\n",
      "|225c4680e3df32fba...|2019-08-04 15:07:17|         Oracle IDAM|         Openings: 1|            3 - 7 Years| Oracle IDAM|OIM|OAM|Programming & Design|Bengaluru,Hyderab...|IT Software - App...|IT-Software / Sof...|  Software Developer|\n",
      "|201088d1d59684152...|2019-08-05 02:16:52|   Magento Developer| Not Disclosed by...|              2 - 7 yrs| Copyright| Email...|Programming & Design|           Ahmedabad|IT Software - eCo...|Textiles, Garment...|  Software Developer|\n",
      "|29efa47a392d94db3...|2019-08-05 03:59:59| Looking For Trai...| Not Disclosed by...|              0 - 3 yrs| C#| MS Dynamics ...|Programming & Design|           Hyderabad|IT Software - App...|IT-Software, Soft...|  Software Developer|\n",
      "|8ebb28ac4a09c08ee...|2019-08-04 23:56:33| Back End Java De...| Not Disclosed by...|              6 - 8 yrs| Java EE| JMS| Co...|Programming & Design|           Bengaluru|IT Software - DBA...|IT-Software, Soft...|  Software Developer|\n",
      "|a15f05a1ab440474a...|2019-08-06 10:16:43|    Product Engineer| Not Disclosed by...|              4 - 9 yrs| Conceptualizatio...|Programming & Design|           Bengaluru|IT Software - App...|IT-Software, Soft...|  Software Developer|\n",
      "|fedc5a266bab46f33...|2019-08-04 17:07:08| Opening For Arti...| 2,00,000 - 4,00,...|              3 - 5 yrs| Articulate Story...|Programming & Design|             Chennai|IT Software - App...|   Animation, Gaming|Graphic/Web Designer|\n",
      "|5776ed6ca85971ba2...|2019-08-04 21:22:46| Software Enginee...| Not Disclosed by...|              4 - 9 yrs| C#| Java| OOP| C...|Programming & Design|             Chennai|IT Software - App...|IT-Software, Soft...|  Software Developer|\n",
      "|986c0566fcae55da5...|2019-08-05 11:58:20| US Based Financi...| Not Disclosed by...|              6 - 8 yrs| Java| java api| ...|Programming & Design|           Hyderabad|IT Software - App...|IT-Software, Soft...|  Software Developer|\n",
      "|86e9cade14e2a972c...|2019-08-05 11:09:42| Strong Partner E...| Not Disclosed by...|              2 - 7 yrs| GIS| ISO 27001| ...|Programming & Design|               Noida|IT Software - App...|IT-Software, Soft...|        Project Lead|\n",
      "|8e00fef5607cda9dc...|2019-07-07 11:03:17| Wordpress Web De...| Not Disclosed by...|              3 - 6 yrs|                null|Programming & Design|           Bengaluru|IT Software - App...|Recruitment, Staf...|  Software Developer|\n",
      "|c113e90c6cd295361...|2019-07-04 15:59:34| System Architect...| Not Disclosed by...|            10 - 16 yrs| 4G| 3GPP| 3G| Sy...|Programming & Design|              Mumbai|IT Software - Net...|IT-Software, Soft...| Technical Architect|\n",
      "|da34a2185665cb96c...|2019-08-05 08:30:12|Excellent Opportu...| Not Disclosed by...|            2 - 7 Years|arm processor|c|d...|Programming & Design| Hyderabad, Benga...|IT Software - App...|IT-Software / Sof...|  Software Developer|\n",
      "|672a4715eb50ae6ff...|2019-07-04 17:35:04| ODI Developer/le...| Not Disclosed by...|             5 - 10 yrs|         ODI| Matrix|Programming & Design|              Mumbai|IT Software - DBA...|IT-Software, Soft...|  Software Developer|\n",
      "|44c5c82a4f843078f...|2019-08-05 11:14:38|        UI Developer| Not Disclosed by...|              2 - 4 yrs| javascript| sql|...|Programming & Design|               Noida|IT Software - App...|IT-Software, Soft...|  Software Developer|\n",
      "|df6e8e27b41682b6c...|2019-08-06 13:55:59|   Android Developer| Not Disclosed by...|              2 - 5 yrs| android| btech| ...|Programming & Design|           Bengaluru|IT Software - App...|IT-Software, Soft...|  Software Developer|\n",
      "|64df69733e0fd972d...|2019-08-04 11:24:22|       iOS Developer| Not Disclosed by...|              2 - 5 yrs| bca| graphics| a...|Programming & Design|Chandigarh,Chandi...|IT Software - Mobile|IT-Software, Soft...|  Software Developer|\n",
      "|ac45b8c78140c26d1...|2019-07-07 04:03:25|   Backend Developer| Not Disclosed by...|              1 - 5 yrs| PHP| Networking|...|Programming & Design|           Bengaluru|IT Software - App...| Internet, Ecommerce|  Software Developer|\n",
      "+--------------------+-------------------+--------------------+--------------------+-----------------------+--------------------+--------------------+--------------------+--------------------+--------------------+--------------------+\n",
      "only showing top 20 rows\n",
      "\n"
     ]
    }
   ],
   "source": [
    "jobs_df.filter(col(\"Role Category\") == \"Programming & Design\").show()"
   ]
  },
  {
   "cell_type": "code",
   "execution_count": 9,
   "id": "4f9de7bf",
   "metadata": {},
   "outputs": [
    {
     "name": "stdout",
     "output_type": "stream",
     "text": [
      "+--------------------+--------------+\n",
      "|            Industry|Industry count|\n",
      "+--------------------+--------------+\n",
      "|Automobile / Auto...|            15|\n",
      "|  Retail / Wholesale|            19|\n",
      "|000 employees acr...|             3|\n",
      "|Allegis Group Ind...|             1|\n",
      "|NGO, Social Servi...|            96|\n",
      "| Government, Defence|            51|\n",
      "|        Broadcasting|             3|\n",
      "|Travel / Hotels /...|            25|\n",
      "|At TEKsystems, we...|             1|\n",
      "|Architecture / In...|             1|\n",
      "|IT-Software, Soft...|         10009|\n",
      "|Recruitment, Staf...|          2721|\n",
      "|Aviation, Aerospa...|            46|\n",
      "|Travel , Hotels ,...|           510|\n",
      "|Semiconductors, E...|           170|\n",
      "|Banking, Financia...|          1685|\n",
      "| Brewery, Distillery|             6|\n",
      "|Consumer Electron...|            13|\n",
      "|Real Estate, Prop...|           393|\n",
      "|Media, Entertainm...|           459|\n",
      "+--------------------+--------------+\n",
      "only showing top 20 rows\n",
      "\n"
     ]
    }
   ],
   "source": [
    "jobs_df.groupBy(\"Industry\").agg(count(\"Industry\").alias(\"Industry count\")).show()"
   ]
  },
  {
   "cell_type": "code",
   "execution_count": 10,
   "id": "5c47427b",
   "metadata": {},
   "outputs": [
    {
     "name": "stdout",
     "output_type": "stream",
     "text": [
      "+--------------------+\n",
      "|     Functional Area|\n",
      "+--------------------+\n",
      "|Marketing , Adver...|\n",
      "|Sales , Retail , ...|\n",
      "|Engineering Desig...|\n",
      "|IT Software - App...|\n",
      "|IT Software - QA ...|\n",
      "|IT Software - App...|\n",
      "|Sales , Retail , ...|\n",
      "|IT Software - App...|\n",
      "|Sales , Retail , ...|\n",
      "|ITES , BPO , KPO ...|\n",
      "|Strategy , Manage...|\n",
      "|IT Software - eCo...|\n",
      "|ITES , BPO , KPO ...|\n",
      "|IT Software - App...|\n",
      "|Marketing , Adver...|\n",
      "|               Other|\n",
      "|Engineering Desig...|\n",
      "|Accounts , Financ...|\n",
      "|IT Software - eCo...|\n",
      "|IT Software - App...|\n",
      "+--------------------+\n",
      "only showing top 20 rows\n",
      "\n"
     ]
    }
   ],
   "source": [
    "from pyspark.sql import functions as F\n",
    "\n",
    "jobs_df.select(\"Functional Area\").show()"
   ]
  },
  {
   "cell_type": "code",
   "execution_count": 11,
   "id": "19c3bcad",
   "metadata": {},
   "outputs": [],
   "source": [
    "jobs_df.createOrReplaceTempView(\"jobs\")\n",
    "\n",
    "industry_df = spark.sql(\"select * from jobs where Industry LIKE \\\"IT-Software%\\\"\")"
   ]
  },
  {
   "cell_type": "code",
   "execution_count": 12,
   "id": "21eda4b7",
   "metadata": {},
   "outputs": [
    {
     "name": "stdout",
     "output_type": "stream",
     "text": [
      "+--------------------+\n",
      "|           Job Title|\n",
      "+--------------------+\n",
      "| Online Bidding E...|\n",
      "|   Technical Support|\n",
      "| Software Test En...|\n",
      "| Opening For Adob...|\n",
      "| Opportunity For ...|\n",
      "|           BDE- PUNE|\n",
      "| Technical Suppor...|\n",
      "|       SEO Executive|\n",
      "|         Oracle IDAM|\n",
      "|     Account Manager|\n",
      "| Looking For Trai...|\n",
      "| Business Develop...|\n",
      "| Business Develop...|\n",
      "| Back End Java De...|\n",
      "|    Product Engineer|\n",
      "| Software Enginee...|\n",
      "| Linux Administra...|\n",
      "| Hiring for Tech ...|\n",
      "| US Based Financi...|\n",
      "| Strong Partner E...|\n",
      "+--------------------+\n",
      "only showing top 20 rows\n",
      "\n"
     ]
    }
   ],
   "source": [
    "industry_df.select(\"Job Title\").show()"
   ]
  },
  {
   "cell_type": "code",
   "execution_count": 18,
   "id": "f91cc1c2",
   "metadata": {},
   "outputs": [],
   "source": [
    "skill_df = industry_df.select(\n",
    "    F.upper(\"Job Title\").alias(\"JOB TITLE\"),\\\n",
    "    F.upper(\"Role\").alias(\"ROLE\"),\\\n",
    "    F.upper(\"Role Category\").alias(\"ROLE CATEGORY\"),\\\n",
    "    F.upper(\"Key Skills\",).alias(\"KEY SKILLS\"),\\\n",
    "    F.upper(\"Functional Area\").alias(\"FUNCTIONAL AREA\"))"
   ]
  },
  {
   "cell_type": "code",
   "execution_count": 19,
   "id": "0a2de12d",
   "metadata": {},
   "outputs": [
    {
     "name": "stdout",
     "output_type": "stream",
     "text": [
      "+--------------------+--------------------+--------------------+--------------------+--------------------+\n",
      "|           JOB TITLE|                ROLE|       ROLE CATEGORY|          KEY SKILLS|     FUNCTIONAL AREA|\n",
      "+--------------------+--------------------+--------------------+--------------------+--------------------+\n",
      "| ONLINE BIDDING E...|SALES EXECUTIVE/O...|        RETAIL SALES| PRE SALES| CLOSI...|SALES , RETAIL , ...|\n",
      "|   TECHNICAL SUPPORT|TECHNICAL SUPPORT...|ADMIN/MAINTENANCE...|   TECHNICAL SUPPORT|IT SOFTWARE - APP...|\n",
      "| SOFTWARE TEST EN...|    TESTING ENGINEER|PROGRAMMING & DESIGN| MANUAL TESTING| ...|IT SOFTWARE - QA ...|\n",
      "| OPENING FOR ADOB...|      SYSTEM ANALYST|PROGRAMMING & DESIGN| ADOBE EXPERIENCE...|IT SOFTWARE - APP...|\n",
      "| OPPORTUNITY FOR ...| TECHNICAL ARCHITECT|PROGRAMMING & DESIGN| TFS| AZURE| GIT|...|IT SOFTWARE - APP...|\n",
      "+--------------------+--------------------+--------------------+--------------------+--------------------+\n",
      "only showing top 5 rows\n",
      "\n"
     ]
    }
   ],
   "source": [
    "skill_df.show(5)"
   ]
  },
  {
   "cell_type": "code",
   "execution_count": 22,
   "id": "661da823",
   "metadata": {},
   "outputs": [],
   "source": [
    "skill_df.toPandas().to_csv('./skills.csv')"
   ]
  },
  {
   "cell_type": "code",
   "execution_count": null,
   "id": "ae8f9887",
   "metadata": {},
   "outputs": [],
   "source": []
  },
  {
   "cell_type": "code",
   "execution_count": null,
   "id": "a9df9606",
   "metadata": {},
   "outputs": [],
   "source": []
  }
 ],
 "metadata": {
  "kernelspec": {
   "display_name": "Python 3 (ipykernel)",
   "language": "python",
   "name": "python3"
  },
  "language_info": {
   "codemirror_mode": {
    "name": "ipython",
    "version": 3
   },
   "file_extension": ".py",
   "mimetype": "text/x-python",
   "name": "python",
   "nbconvert_exporter": "python",
   "pygments_lexer": "ipython3",
   "version": "3.10.6"
  }
 },
 "nbformat": 4,
 "nbformat_minor": 5
}
