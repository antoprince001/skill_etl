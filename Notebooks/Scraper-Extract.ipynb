{
 "cells": [
  {
   "cell_type": "code",
   "execution_count": 1,
   "id": "f7429a5d",
   "metadata": {},
   "outputs": [],
   "source": [
    "import requests"
   ]
  },
  {
   "cell_type": "code",
   "execution_count": 2,
   "id": "7dc08741",
   "metadata": {},
   "outputs": [],
   "source": [
    "url = 'https://www.glassdoor.co.in/Job/chennai-data-engineer-jobs-SRCH_IL.0,7_IC2833209_KO8,21.htm'"
   ]
  },
  {
   "cell_type": "code",
   "execution_count": 3,
   "id": "ef05ec5c",
   "metadata": {},
   "outputs": [],
   "source": [
    "from bs4 import BeautifulSoup"
   ]
  },
  {
   "cell_type": "code",
   "execution_count": 10,
   "id": "9719cbbb",
   "metadata": {},
   "outputs": [],
   "source": [
    "def extract():\n",
    "    headers={'User-Agent':'Mozilla/5.0 (Macintosh; Intel Mac OS X 10_15_7) AppleWebKit/537.36 (KHTML, like Gecko) Chrome/109.0.0.0 Safari/537.36'}\n",
    "    url = 'https://www.foundit.in/srp/results?query=data+engineer'\n",
    "    r = requests.get(url,headers=headers)\n",
    "    soup = BeautifulSoup(r.content,'html.parser')\n",
    "    return extract_job_skills(soup)\n"
   ]
  },
  {
   "cell_type": "code",
   "execution_count": 15,
   "id": "fe8c3c74",
   "metadata": {},
   "outputs": [],
   "source": [
    "def extract_job_skills(soup):\n",
    "    p = soup.find_all('p')\n",
    "    print(p)\n",
    "    for skill in p:\n",
    "        print(skill.text)\n",
    "    return len(p)"
   ]
  },
  {
   "cell_type": "code",
   "execution_count": 16,
   "id": "43521d8e",
   "metadata": {},
   "outputs": [
    {
     "name": "stdout",
     "output_type": "stream",
     "text": [
      "[<p>Non IT Jobs</p>, <p>IT Jobs</p>, <p>Job Seekers</p>, <p>Employers</p>, <p>foundit</p>, <p class=\"no-border no-leftPadding\">\n",
      "<a href=\"mailto:info@foundit.in\">info@foundit.in</a>\n",
      "</p>, <p>\n",
      "<a href=\"tel:+91-40-66116611\">Toll No: +91-40-66116611</a>\n",
      "</p>, <p>\n",
      "<a href=\"tel:1-800-4196666\">Toll Free No: 1-800-4196666</a>\n",
      "</p>, <p>Download The App</p>, <p>Stay Connected</p>, <p>\n",
      "<a class=\"subFooter\" href=\"https://www.foundit.in/info/security-center\" target=\"_blank\">Security &amp; Fraud</a><a class=\"subFooter\" href=\"https://www.foundit.in/info/privacy\" target=\"_blank\">Privacy Policy</a><a class=\"subFooter\" href=\"https://www.foundit.in/info/terms-of-use\" target=\"_blank\">Terms of Use</a><a class=\"subFooter\" href=\"https://www.foundit.in/info/beware-of-fraudsters\" target=\"_blank\">Beware of Fraudsters</a><a class=\"subFooter\" href=\"https://www.foundit.in/info/besafe\" target=\"_blank\">Be Safe</a><a class=\"subFooter\" href=\"https://www.foundit.in/info/complaints\" target=\"_blank\">Complaints</a>\n",
      "</p>, <p>\n",
      "            © 2022 foundit | All rights Reserved</p>]\n",
      "Non IT Jobs\n",
      "IT Jobs\n",
      "Job Seekers\n",
      "Employers\n",
      "foundit\n",
      "\n",
      "info@foundit.in\n",
      "\n",
      "\n",
      "Toll No: +91-40-66116611\n",
      "\n",
      "\n",
      "Toll Free No: 1-800-4196666\n",
      "\n",
      "Download The App\n",
      "Stay Connected\n",
      "\n",
      "Security & FraudPrivacy PolicyTerms of UseBeware of FraudstersBe SafeComplaints\n",
      "\n",
      "\n",
      "            © 2022 foundit | All rights Reserved\n"
     ]
    },
    {
     "data": {
      "text/plain": [
       "12"
      ]
     },
     "execution_count": 16,
     "metadata": {},
     "output_type": "execute_result"
    }
   ],
   "source": [
    "extract()"
   ]
  },
  {
   "cell_type": "code",
   "execution_count": 54,
   "id": "86789ce3",
   "metadata": {},
   "outputs": [],
   "source": [
    "from job_seeker.downloader import JobSeeker"
   ]
  },
  {
   "cell_type": "code",
   "execution_count": 55,
   "id": "3dc6f140",
   "metadata": {},
   "outputs": [
    {
     "name": "stdout",
     "output_type": "stream",
     "text": [
      "   page    job_id                         title                role_id  \\\n",
      "0     1  59878387          Senior Data Engineer          data-engineer   \n",
      "1     1  59825839  Senior Data Network Engineer  Data-Network-Engineer   \n",
      "2     1  59876675            Lead Data Engineer          data-engineer   \n",
      "3     1  59826549                 Data Engineer          data-engineer   \n",
      "4     1  59900084                 Data Engineer          data-engineer   \n",
      "\n",
      "           listing_date                                             teaser  \\\n",
      "0  2023-01-27T00:24:25Z  Come and enjoy what Relational Data Systems ha...   \n",
      "1  2023-01-24T00:09:05Z  Senior Data Network Engineer     12 months con...   \n",
      "2  2023-01-26T22:36:57Z  Bring your significant data engineering experi...   \n",
      "3  2023-01-24T00:37:27Z  Data Program will transform how we store, gove...   \n",
      "4  2023-01-27T23:17:44Z  Data Engineer - 12 month contract - SYDNEY - u...   \n",
      "\n",
      "                           classification       subClassification  \\\n",
      "0  Information & Communication Technology  Engineering - Software   \n",
      "1  Information & Communication Technology   Engineering - Network   \n",
      "2  Information & Communication Technology  Engineering - Software   \n",
      "3  Information & Communication Technology                   Other   \n",
      "4  Information & Communication Technology  Engineering - Software   \n",
      "\n",
      "        workType   location     suburbWhereValue               salary  \\\n",
      "0      Full Time      Perth        Perth WA 6000                        \n",
      "1  Contract/Temp   Brisbane  Carseldine QLD 4034  $700 - $800 per day   \n",
      "2      Full Time     Sydney      Sydney NSW 2000                        \n",
      "3      Full Time  Melbourne   Melbourne VIC 3000                        \n",
      "4  Contract/Temp     Sydney                 None   $60 – $70 per hour   \n",
      "\n",
      "            companyName       company_advertiser  isPrivateAdvertiser  \n",
      "0      Land Services SA         Land Services SA                False  \n",
      "1    Ignite Recruitment                   Ignite                False  \n",
      "2       Macquarie Group  Macquarie Group Limited                False  \n",
      "3                  Bupa          Bupa HI Pty Ltd                False  \n",
      "4  Elite IT Recruitment     Elite IT Recruitment                False  \n"
     ]
    }
   ],
   "source": [
    "parameters = {\n",
    "    \"keywords\" : \"data engineer\",\n",
    "}\n",
    "\n",
    "js = JobSeeker(params=parameters)\n",
    "\n",
    "df = js.jobs_df\n",
    "\n",
    "print(df.head())\n"
   ]
  },
  {
   "cell_type": "code",
   "execution_count": 2,
   "id": "f782b29a",
   "metadata": {},
   "outputs": [],
   "source": [
    "# import module\n",
    "import requests\n",
    "from bs4 import BeautifulSoup\n"
   ]
  },
  {
   "cell_type": "code",
   "execution_count": 3,
   "id": "00fd0ac8",
   "metadata": {},
   "outputs": [],
   "source": [
    "\n",
    "# user define function\n",
    "# Scrape the data\n",
    "# and get in string\n",
    "def getdata(url):\n",
    "    r = requests.get(url)\n",
    "    return r.text\n",
    "\n",
    "# Get Html code using parse\n",
    "def html_code(url):\n",
    "    # pass the url\n",
    "    # into getdata function\n",
    "    htmldata = getdata(url)\n",
    "    soup = BeautifulSoup(htmldata, 'html.parser')\n",
    "    # return html code\n",
    "    return(soup)\n"
   ]
  },
  {
   "cell_type": "code",
   "execution_count": 4,
   "id": "7291978f",
   "metadata": {},
   "outputs": [],
   "source": [
    "\n",
    "# filter job data using\n",
    "# find_all function\n",
    "def job_data(soup):\n",
    "    # find the Html tag\n",
    "    # with find()\n",
    "    # and convert into string\n",
    "    data_str = \"\"\n",
    "    for item in soup.find_all(\"a\", class_=\"jobtitle turnstileLink\"):\n",
    "        data_str = data_str + item.get_text()\n",
    "    result_1 = data_str.split(\"\\n\")\n",
    "    return(result_1)\n",
    "\n",
    "# filter company_data using\n",
    "# find_all function\n",
    "\n",
    "\n",
    "def company_data(soup):\n",
    "\n",
    "    # find the Html tag\n",
    "    # with find()\n",
    "    # and convert into string\n",
    "    data_str = \"\"\n",
    "    result = \"\"\n",
    "    for item in soup.find_all(\"div\", class_=\"sjcl\"):\n",
    "        data_str = data_str + item.get_text()\n",
    "    result_1 = data_str.split(\"\\n\")\n",
    "\n",
    "    res = []\n",
    "    for i in range(1, len(result_1)):\n",
    "        if len(result_1[i]) > 1:\n",
    "            res.append(result_1[i])\n",
    "    return(res)\n"
   ]
  },
  {
   "cell_type": "code",
   "execution_count": 6,
   "id": "8a109619",
   "metadata": {},
   "outputs": [
    {
     "name": "stdout",
     "output_type": "stream",
     "text": [
      "[]\n"
     ]
    }
   ],
   "source": [
    "\n",
    "# Data for URL\n",
    "job = \"data+science+internship\"\n",
    "Location = \"Noida%2C+Uttar+Pradesh\"\n",
    "url = \"https://in.indeed.com/jobs?q=\"+job+\"&l=\"+Location\n",
    "\n",
    "# Pass this URL into the soup\n",
    "# which will return\n",
    "# html string\n",
    "soup = html_code(url)\n",
    "\n",
    "# call job and company data\n",
    "# and store into it var\n",
    "job_res = job_data(soup)\n",
    "com_res = company_data(soup)\n",
    "print(com_res)\n",
    "# Traverse the both data\n",
    "# temp = 0\n",
    "# for i in range(1, len(job_res)):\n",
    "#     j = temp\n",
    "#     for j in range(temp, 2+temp):\n",
    "#         print(\"Company Name and Address : \" + com_res[j])\n",
    "\n",
    "#         temp = j\n",
    "#     print(\"Job : \" + job_res[i])\n",
    "#     print(\"-----------------------------\")\n"
   ]
  },
  {
   "cell_type": "code",
   "execution_count": 13,
   "id": "159c125e",
   "metadata": {},
   "outputs": [
    {
     "ename": "ModuleNotFoundError",
     "evalue": "No module named 'selenium'",
     "output_type": "error",
     "traceback": [
      "\u001b[0;31m---------------------------------------------------------------------------\u001b[0m",
      "\u001b[0;31mModuleNotFoundError\u001b[0m                       Traceback (most recent call last)",
      "Cell \u001b[0;32mIn [13], line 4\u001b[0m\n\u001b[1;32m      2\u001b[0m \u001b[38;5;28;01mimport\u001b[39;00m \u001b[38;5;21;01mrequests\u001b[39;00m\n\u001b[1;32m      3\u001b[0m \u001b[38;5;28;01mfrom\u001b[39;00m \u001b[38;5;21;01mbs4\u001b[39;00m \u001b[38;5;28;01mimport\u001b[39;00m BeautifulSoup\n\u001b[0;32m----> 4\u001b[0m \u001b[38;5;28;01mimport\u001b[39;00m \u001b[38;5;21;01mselenium\u001b[39;00m\n\u001b[1;32m      5\u001b[0m \u001b[38;5;28;01mfrom\u001b[39;00m \u001b[38;5;21;01mselenium\u001b[39;00m \u001b[38;5;28;01mimport\u001b[39;00m webdriver\n\u001b[1;32m      6\u001b[0m \u001b[38;5;28;01mfrom\u001b[39;00m \u001b[38;5;21;01mselenium\u001b[39;00m\u001b[38;5;21;01m.\u001b[39;00m\u001b[38;5;21;01mwebdriver\u001b[39;00m\u001b[38;5;21;01m.\u001b[39;00m\u001b[38;5;21;01msupport\u001b[39;00m\u001b[38;5;21;01m.\u001b[39;00m\u001b[38;5;21;01mui\u001b[39;00m \u001b[38;5;28;01mimport\u001b[39;00m WebDriverWait\n",
      "\u001b[0;31mModuleNotFoundError\u001b[0m: No module named 'selenium'"
     ]
    }
   ],
   "source": [
    "import urllib\n",
    "import requests\n",
    "from bs4 import BeautifulSoup\n",
    "import selenium\n",
    "from selenium import webdriver\n",
    "from selenium.webdriver.support.ui import WebDriverWait\n",
    "import pandas as pd\n",
    "import os"
   ]
  },
  {
   "cell_type": "code",
   "execution_count": 15,
   "id": "0ef0c8b1",
   "metadata": {},
   "outputs": [
    {
     "name": "stdout",
     "output_type": "stream",
     "text": [
      "<!DOCTYPE html>\n",
      "\n",
      "<html lang=\"en-US\">\n",
      "<head>\n",
      "<title>Access denied</title>\n",
      "<meta content=\"IE=Edge\" http-equiv=\"X-UA-Compatible\"/>\n",
      "<meta content=\"noindex, nofollow\" name=\"robots\"/>\n",
      "<meta content=\"width=device-width,initial-scale=1\" name=\"viewport\"/>\n",
      "<link href=\"/cdn-cgi/styles/errors.css\" media=\"screen\" rel=\"stylesheet\"/>\n",
      "<script>\n",
      "(function(){if(document.addEventListener&&window.XMLHttpRequest&&JSON&&JSON.stringify){var e=function(a){var c=document.getElementById(\"error-feedback-survey\"),d=document.getElementById(\"error-feedback-success\"),b=new XMLHttpRequest;a={event:\"feedback clicked\",properties:{errorCode:1020,helpful:a,version:5}};b.open(\"POST\",\"https://sparrow.cloudflare.com/api/v1/event\");b.setRequestHeader(\"Content-Type\",\"application/json\");b.setRequestHeader(\"Sparrow-Source-Key\",\"c771f0e4b54944bebf4261d44bd79a1e\");\n",
      "b.send(JSON.stringify(a));c.classList.add(\"feedback-hidden\");d.classList.remove(\"feedback-hidden\")};document.addEventListener(\"DOMContentLoaded\",function(){var a=document.getElementById(\"error-feedback\"),c=document.getElementById(\"feedback-button-yes\"),d=document.getElementById(\"feedback-button-no\");\"classList\"in a&&(a.classList.remove(\"feedback-hidden\"),c.addEventListener(\"click\",function(){e(!0)}),d.addEventListener(\"click\",function(){e(!1)}))})}})();\n",
      "</script>\n",
      "<script>\n",
      "      (function(){function d(c){var b=document.getElementById(\"copy-label\"),a=document.getElementById(\"cf-details-wrapper-expandable\");c.target.checked?a.classList.add(\"expanded\"):(a.classList.remove(\"expanded\"),b.innerText=\"Click to copy\")}if(document.addEventListener){var e=function(){var c=document.getElementById(\"copy-label\");var b=document.getElementById(\"error-details\").textContent;if(navigator.clipboard)navigator.clipboard.writeText(b);else{var a=document.createElement(\"textarea\");a.value=b;a.style.top=\"0\";a.style.left=\"0\";a.style.position=\"fixed\";document.body.appendChild(a);a.focus();a.select();document.execCommand(\"copy\");document.body.removeChild(a)}c.innerText=\"Copied text to clipboard\"};document.addEventListener(\"DOMContentLoaded\",function(){var c=document.getElementById(\"error-details-checkbox\"),b=document.getElementById(\"click-to-copy-btn\");document.getElementById(\"copy-label\").classList.remove(\"hidden\");c.addEventListener(\"change\",d);b.addEventListener(\"click\",e)})}})();\n",
      "      </script>\n",
      "<script defer=\"\" src=\"https://performance.radar.cloudflare.com/beacon.js\"></script>\n",
      "</head>\n",
      "<body>\n",
      "<div class=\"cf-main-wrapper\" role=\"main\">\n",
      "<div class=\"cf-header cf-section\">\n",
      "<div class=\"cf-error-title\">\n",
      "<h1>Access denied</h1>\n",
      "<span class=\"cf-code-label\">Error code <span>1020</span></span>\n",
      "</div>\n",
      "<div class=\"cf-error-description\">\n",
      "<p>You do not have access to uk.indeed.com.</p><p>The site owner may have set restrictions that prevent you from accessing the site.</p>\n",
      "</div>\n",
      "</div>\n",
      "</div>\n",
      "<div class=\"cf-details-wrapper\">\n",
      "<div class=\"cf-section\" role=\"region\">\n",
      "<div class=\"cf-expandable\" id=\"cf-details-wrapper-expandable\">\n",
      "<label class=\"cf-expandable-btn\" for=\"error-details-checkbox\" title=\"Error details\">\n",
      "<p class=\"cf-dropdown-title\">Error details</p>\n",
      "<img alt=\"Caret icon\" class=\"cf-caret-icon\" id=\"caret-icon\" src=\"data:image/png;base64,iVBORw0KGgoAAAANSUhEUgAAACAAAAAgBAMAAACBVGfHAAAAElBMVEUAAAAwMDAxMTEyMjIwMDAxMTF+89HTAAAABXRSTlMAf2CAMKS61bwAAABTSURBVCjPzcq7DcAgFENR5zMATfo06TNCViAS+6+CeFi6gglw4eLqaPVtaQpXnkApaQT/k0dw70EAUhCA1AnABGACMAGYAEwAkCOAydv+I5xaZhXWbQrD80TkkQAAAABJRU5ErkJggg==\"/>\n",
      "</label>\n",
      "<input class=\"hidden\" id=\"error-details-checkbox\" type=\"checkbox\"/>\n",
      "<div class=\"cf-expandable-error-info hidden\">\n",
      "<p class=\"cf-error-copy-description\">Provide the site owner this information.</p>\n",
      "<button class=\"cf-click-to-copy-btn\" id=\"click-to-copy-btn\" title=\"Click to copy\" type=\"button\">\n",
      "<div class=\"cf-error-wrapper\" id=\"error-details\"><p class=\"cf-error-details-endpoint\">I got an error when visiting uk.indeed.com/jobs?q=developer&amp;l=india&amp;fromage=last&amp;sort=date.</p>\n",
      "<p>Error code: 1020</p>\n",
      "<p>Ray ID: 791b6c161eb5178b</p>\n",
      "<p>Country: IN</p>\n",
      "<p>Data center: maa01</p>\n",
      "<p>IP: 122.164.87.80</p>\n",
      "<p>Timestamp: 2023-01-30 16:00:44 UTC</p>\n",
      "</div>\n",
      "<p class=\"cf-copy-label hidden\" id=\"copy-label\">Click to copy</p>\n",
      "</button>\n",
      "</div>\n",
      "</div>\n",
      "</div>\n",
      "<div class=\"clearfix cf-footer cf-section\" role=\"contentinfo\">\n",
      "<div class=\"cf-column\">\n",
      "<div class=\"feedback-hidden py-8 text-center\" id=\"error-feedback\">\n",
      "<div class=\"footer-line-wrapper\" id=\"error-feedback-survey\">\n",
      "        Was this page helpful?\n",
      "        <button class=\"border border-solid bg-white cf-button cursor-pointer ml-4 px-4 py-2 rounded\" id=\"feedback-button-yes\" type=\"button\">Yes</button>\n",
      "<button class=\"border border-solid bg-white cf-button cursor-pointer ml-4 px-4 py-2 rounded\" id=\"feedback-button-no\" type=\"button\">No</button>\n",
      "</div>\n",
      "<div class=\"feedback-success feedback-hidden\" id=\"error-feedback-success\">\n",
      "        Thank you for your feedback!\n",
      "    </div>\n",
      "</div>\n",
      "</div>\n",
      "<div class=\"cf-column cf-footer-line-wrapper text-center\">\n",
      "<p>\n",
      "               Performance &amp; security by <a href=\"https://www.cloudflare.com?utm_source=1020_error\" rel=\"noopener noreferrer\" target=\"_blank\">Cloudflare <img alt=\"External link\" class=\"external-link\" src=\"/cdn-cgi/images/external.png\" title=\"Opens in new tab\"/></a>\n",
      "</p>\n",
      "</div>\n",
      "</div>\n",
      "</div>\n",
      "<script crossorigin=\"anonymous\" data-cf-beacon='{\"rayId\":\"791b6c161eb5178b\",\"token\":\"47161d92b8b74ef5b23469b91c2535c6\",\"version\":\"2022.11.3\",\"si\":100}' defer=\"\" integrity=\"sha512-0ahDYl866UMhKuYcW078ScMalXqtFJggm7TmlUtp0UlD4eQk0Ixfnm5ykXKvGJNFjLMoortdseTfsRT8oCfgGA==\" src=\"https://static.cloudflareinsights.com/beacon.min.js/vaafb692b2aea4879b33c060e79fe94621666317369993\"></script>\n",
      "</body>\n",
      "</html>\n",
      "\n"
     ]
    }
   ],
   "source": [
    "def load_indeed_jobs_div(job_title, location):\n",
    "    getVars = {'q' : job_title, 'l' : location, 'fromage' : 'last', 'sort' : 'date'}\n",
    "    url = ('https://www.indeed.co.uk/jobs?' + urllib.parse.urlencode(getVars))\n",
    "    page = requests.get(url)\n",
    "    soup = BeautifulSoup(page.content, \"html.parser\")\n",
    "    print(soup)\n",
    "    job_soup = soup.find(id=\"resultsCol\")\n",
    "    return job_soup\n",
    "load_indeed_jobs_div('developer','india')"
   ]
  },
  {
   "cell_type": "code",
   "execution_count": 40,
   "id": "c32e231f",
   "metadata": {},
   "outputs": [
    {
     "name": "stderr",
     "output_type": "stream",
     "text": [
      "/var/folders/90/nk1zgyd94bv02g1_3__bgb880000gn/T/ipykernel_1543/2848052739.py:7: DeprecationWarning: headless property is deprecated, instead use add_argument('--headless') or add_argument('--headless=new')\n",
      "  options.headless = True\n",
      "/var/folders/90/nk1zgyd94bv02g1_3__bgb880000gn/T/ipykernel_1543/2848052739.py:11: DeprecationWarning: executable_path has been deprecated, please pass in a Service object\n",
      "  driver = webdriver.Chrome(options=options, executable_path=DRIVER_PATH)\n"
     ]
    },
    {
     "name": "stdout",
     "output_type": "stream",
     "text": [
      "[]\n"
     ]
    }
   ],
   "source": [
    "DRIVER_PATH = './chromedriver_mac64'\n",
    "from selenium import webdriver\n",
    "from selenium.webdriver.chrome.options import Options\n",
    "from selenium.webdriver.common.by import By\n",
    "\n",
    "options = Options()\n",
    "options.headless = True\n",
    "options.add_argument('--headless')\n",
    "options.add_argument(\"--window-size=1920,1200\")\n",
    "\n",
    "driver = webdriver.Chrome(options=options, executable_path=DRIVER_PATH)\n",
    "driver.get(\"https://in.linkedin.com/jobs/data-engineer-jobs?position=1&pageNum=0\")\n",
    "p = driver.find_elements(By.CLASS_NAME,\"description__text description__text--rich\")\n",
    "print(p)\n",
    "for skill in p:\n",
    "    print(skill)\n",
    "driver.quit()"
   ]
  },
  {
   "cell_type": "code",
   "execution_count": null,
   "id": "4e5f9261",
   "metadata": {},
   "outputs": [],
   "source": []
  },
  {
   "cell_type": "code",
   "execution_count": 41,
   "id": "ad9a9e01",
   "metadata": {},
   "outputs": [],
   "source": [
    "import requests\n",
    "from bs4 import BeautifulSoup\n",
    "import pandas as pd\n",
    "from selenium import webdriver\n",
    "import time\n",
    "from selenium.webdriver.common.keys import Keys\n",
    "\n",
    "HEADERS ={\"User-Agent\":\"Mozilla/5.0 (Windows NT 10.0; Win64; x64; rv:66.0) Gecko/20100101 Firefox/66.0\", \"Accept-Encoding\":\"gzip, deflate\", \"Accept\":\"text/html,application/xhtml+xml,application/xml;q=0.9,*/*;q=0.8\", \"DNT\":\"1\",\"Connection\":\"close\", \"Upgrade-Insecure-Requests\":\"1\"}"
   ]
  },
  {
   "cell_type": "code",
   "execution_count": 53,
   "id": "87bd4edb",
   "metadata": {},
   "outputs": [
    {
     "name": "stdout",
     "output_type": "stream",
     "text": [
      "https://in.indeed.com/jobs?q=Data+Scientist&l=Bengaluru&from=searchOnHP&vjk=046aaf95e21c1a63\n"
     ]
    }
   ],
   "source": [
    "def get_current_url(url, job_title, location):\n",
    "    driver = webdriver.Chrome()\n",
    "    driver.get(url)\n",
    "    time.sleep(3)\n",
    "    driver.find_element(By.XPATH,'//*[@id=\"text-input-what\"]').send_keys(job_title)\n",
    "    time.sleep(3)\n",
    "    driver.find_element(By.XPATH,'//*[@id=\"text-input-where\"]').send_keys(location)\n",
    "    time.sleep(3)\n",
    "    driver.find_element(By.XPATH,'/html/body/div').click()\n",
    "    time.sleep(3)\n",
    "    try:\n",
    "        driver.find_element(By.XPATH,'//*[@id=\"jobsearch\"]/button').click()\n",
    "    except:\n",
    "        driver.find_element(By.XPATH,'//*[@id=\"whatWhereFormId\"]/div[3]/button').click()\n",
    "    current_url = driver.current_url\n",
    "\n",
    "    return current_url \n",
    "\n",
    "current_url = get_current_url('https://in.indeed.com/','Data Scientist',\"Bengaluru\")\n",
    "print(current_url)"
   ]
  },
  {
   "cell_type": "code",
   "execution_count": 47,
   "id": "a912321c",
   "metadata": {},
   "outputs": [
    {
     "name": "stdout",
     "output_type": "stream",
     "text": [
      "<!DOCTYPE html>\n",
      "<html lang=\"en-US\">\n",
      "<head>\n",
      "<title>Just a moment...</title>\n",
      "<meta content=\"text/html; charset=utf-8\" http-equiv=\"Content-Type\"/>\n",
      "<meta content=\"IE=Edge\" http-equiv=\"X-UA-Compatible\"/>\n",
      "<meta content=\"noindex,nofollow\" name=\"robots\"/>\n",
      "<meta content=\"width=device-width,initial-scale=1\" name=\"viewport\"/>\n",
      "<link href=\"/cdn-cgi/styles/challenges.css\" rel=\"stylesheet\"/>\n",
      "</head>\n",
      "<body class=\"no-js\">\n",
      "<div class=\"main-wrapper\" role=\"main\">\n",
      "<div class=\"main-content\">\n",
      "<h1 class=\"zone-name-title h1\">\n",
      "<img alt=\"Icon for in.indeed.com\" class=\"heading-favicon\" onerror=\"this.onerror=null;this.parentNode.removeChild(this)\" src=\"/favicon.ico\"/>\n",
      "            in.indeed.com\n",
      "        </h1>\n",
      "<h2 class=\"h2\" id=\"challenge-running\">\n",
      "            Checking if the site connection is secure\n",
      "        </h2>\n",
      "<noscript>\n",
      "<div id=\"challenge-error-title\">\n",
      "<div class=\"h2\">\n",
      "<span class=\"icon-wrapper\">\n",
      "<div class=\"heading-icon warning-icon\"></div>\n",
      "</span>\n",
      "<span id=\"challenge-error-text\">\n",
      "                        Enable JavaScript and cookies to continue\n",
      "                    </span>\n",
      "</div>\n",
      "</div>\n",
      "</noscript>\n",
      "<div id=\"trk_jschal_js\" style=\"display:none;background-image:url('/cdn-cgi/images/trace/managed/nojs/transparent.gif?ray=7931ce80a8ee52b5')\"></div>\n",
      "<div class=\"core-msg spacer\" id=\"challenge-body-text\">\n",
      "            in.indeed.com needs to review the security of your connection before proceeding.\n",
      "        </div>\n",
      "<form action=\"/jobs?q=Data+Scientist&amp;l=Bengaluru&amp;from=searchOnHP&amp;vjk=8433613c152443dd&amp;__cf_chl_f_tk=FvrPOn5JogWTRzSvsgLjxMKSQIPK.spSR4ZeDKR.bMw-1675329162-0-gaNycGzNB70\" enctype=\"application/x-www-form-urlencoded\" id=\"challenge-form\" method=\"POST\">\n",
      "<input name=\"md\" type=\"hidden\" value=\"58zs0tWv8EAcXo6g6K9CK03YwlfUG7eftmwQ9u.g_7E-1675329162-0-AZfJkrzlF79Vu5UAFuzT6J2zd-_415-oo-xCRlP0fFVM9FSag2ewUyktaOrgrTCNwC_l_-d2LHegUqCwFoX9EAa0Qa1CrmxbnLjStIR-Pi2Rz2v9fy5WTWcJjfSrJ-b7fu-B2sKLl4ACBtLtuKfsfS7S9of2rpEfqyv1aWcpn7cBhziPEVEfEfmgF3uTSw2Ph5DLvIt8g_yrOXMV_sGCDZResFcXe2G3Wujecgi_XmHRuR7PNQnpC_KblpEH1zRRMBdtFCd9qrtPzodkwc-GG1sw8b-8AJ-2xlD756X4esOs8HE9NwF5YZuc7U9JymCFgpE9VzpsTLzkngqvjAAy9RAyuP5sSgKH3MRasw2ZID0EMY1KnHcVtGHxcHfnDr_8kQFYel25DQMyw-xQVvTDdgsQTrOywhf0wH2mYlDuNSnj5j3Hya2lmpW4ZlwCZSarxTPi39JiC0y95hxjjHC4t_NNqyWQSszqRobDmF4eArMhftm1YaAEEHjAbHopYwrkJAv1Ojpjt5n-VJav8DXHJXhE_8mro6lqTkk6dxzre-OZY8CB_b2O_8KhBROtrLfelkymIaRK3lWa4pXJQBxY5-WNU5lW8MRfuMhNqlHHGmHa-YZkZbmDYUjPTDXB9dq_2Q\"/>\n",
      "<input name=\"r\" type=\"hidden\" value=\"ZvoJvacv3H5BKHqNcpe0B1YCf0lYufY7EAjuqAXq2pU-1675329162-0-AXrt8OENL0+gH5i//g0598Y2rKHlCjnn7VbbxuPSsSwSc8TKSvCM9giWJJvHAl0k61K/TnbYf04Zsg17sF0dY/31yj+lIqIJeGKB3kTr2UUWPGzrqF3ecKGSW4G9LCEbwoEXSdNC0xsXCxLNAAcRfGATFo//60kYc1c6XpjJ0MOHUIHrREKGBLfB0jToQBhXeENjnt5qj1TXqO/f+NQ9nc3yg5agxrtfbuCjtqjTFHUXgVcn6wkbZePvnS3irn/yIkgk8adWSs8/TWbIZvNS3U9X2Trhcl17Z9b0P5Oz9E0pMKem+zNQXhBuDr8Os0N3Tzw8N7zxF0Y9gi3Pw8vWIEQPPmgI9hDMFswIisLbyrRKhZ2SzkNyvTaO6bpMVg8u7clhE0ZfpMlXQDKzL5OGOfWCbpcmTuDlrka7YI6mbWpg52678A1ZOnSnNGC5yZfstDmCr9C67fcGdYAb6qOmo53gwzlZ5U5vlGIYWdDNP2nNVTPAb4RgcLAIBzChirt+iY764kx5VZwIpauKXa9h7QoEDZqub/QJXC2rBrZ96gYlvCyCTgTw31LgCtAC6FS0E3vatQ9seF7ORmAF4LO0a927Hw1YUzwUCQRQSKamVE0p84/qR70lR1NKFC2BpPHdhxbhMsmFT+DTMMKgPP43NrT5d0GIs8dkUnil3XduFpLryqLSMBmW/WdkVCoHIyhTLR6yneUMaxK2I1Em7RlAyKFR3JhB0itWT0SWWsf1LbHhcATiO2OmZu61InA3WdzjDAAEACZdmJlegkzH2KcF3ld9LWoLDTyNJIF/3DnMv8JjLjZ5NRfGVXyk9X8pA3YLtKOFWYrnOqbQmCQltDMHD2g2lBsICZCloRyqK2FJ8ydTywkBM/cSwsJaOWUU07do2yyr2cqsgMMgJiLpzzQmhV5S6Qd8HxveagJVxCHiZEbBRikKNDJ4kKwr0is3xcg9E7qIfDMxIGG7BTO3bnfxSrVWiBLWSsyr2au8TzMupIdfOvw6zfDJgwwSW6tSpsj94ms/H13VyyJYB3QqHaUItJphguZLlgFig6RbwcJUHbtYziiMDO3ee86A2VA6Z+INmlch0i2vm/JYTIYRaAnKcPtk9GLMrXc28OqrR7ZoScorNg8zPsJbxIgPBGEbw0PdE+4umhWS+QmgvzdZWVdAlvAc6kg2iJzhg7oDAl+2xUMQbg22r1vb85fPcC0qtb2hGeACYpZu40JNkCBwiCwfPu0PUwLLd7vQV0iXvDZJwjNFoHpdqxRQeMRgPZtfl+eyOnsidy6Sw9QEiplPjSp/yhP5LsNkHWpoKhJX5lo+pI96P9L32VgVLqBgThR9mZ4kQ4/Gbk2rSkuA+a7BU0AGDk3jwydrpRGSminZRlJR3oIRyxk69cs7TLqsp051V1fc9YREDQpVNk7HaccaqkjOqM9KZ/tXPYS5m2qZzkqJnZ/NBuuRQr23ETw0AEa5yMcBXJSfn6DZ68m7Chlkx6ajdPwnvQfk4Xcbft//Bzo1aAS1WTq27mZhtBssc63db9iG5F3HmlKLrDcXf4ztvt3CL5T6Kpp21MFGM1iYRG3LDM/8BG7jPtinqQCBvzUN6mRCPqzkaD/eo7d9HkpOLsT+QZtzFthBkQOv4UvUlV+AXbSErJbnriq6sWwgzV1eapEaE0yeZhA21v+pt6C4gyP+Xht/jnMNwhgWZND00JA52fEFYwea6oqZua+OWyVfEep6lNXpmvfpR3ZY1XHia8z/2G/spHzc9DgW5VffE4ymGK/kCxZmfZmICBdquUp6/sJtmptdKRlDy8nskuw/Uwb73+EoDNWKG3xrhwbyB3bk6HNKuag2GEfKJgrvFd/xe95h69Jzh7E0oo5ombd6yhRDe8Lj9fazooxI/AUM6qwIxMZGKRbnTQQ52xI5emsA1QPkhA==\"/>\n",
      "</form>\n",
      "</div>\n",
      "</div>\n",
      "<script>\n",
      "    (function(){\n",
      "        window._cf_chl_opt={\n",
      "            cvId: '2',\n",
      "            cZone: 'in.indeed.com',\n",
      "            cType: 'managed',\n",
      "            cNounce: '16802',\n",
      "            cRay: '7931ce80a8ee52b5',\n",
      "            cHash: 'd4895840386013d',\n",
      "            cUPMDTk: \"\\/jobs?q=Data+Scientist&l=Bengaluru&from=searchOnHP&vjk=8433613c152443dd&__cf_chl_tk=FvrPOn5JogWTRzSvsgLjxMKSQIPK.spSR4ZeDKR.bMw-1675329162-0-gaNycGzNB70\",\n",
      "            cFPWv: 'b',\n",
      "            cTTimeMs: '1000',\n",
      "            cMTimeMs: '0',\n",
      "            cTplV: 4,\n",
      "            cTplB: 'cf',\n",
      "            cRq: {\n",
      "                ru: 'aHR0cHM6Ly9pbi5pbmRlZWQuY29tL2pvYnM/cT1EYXRhK1NjaWVudGlzdCZsPUJlbmdhbHVydSZmcm9tPXNlYXJjaE9uSFAmdmprPTg0MzM2MTNjMTUyNDQzZGQ=',\n",
      "                ra: 'TW96aWxsYS81LjAgKFdpbmRvd3MgTlQgMTAuMDsgV2luNjQ7IHg2NDsgcnY6NjYuMCkgR2Vja28vMjAxMDAxMDEgRmlyZWZveC82Ni4w',\n",
      "                rm: 'R0VU',\n",
      "                d: '64fFadc9NrykxHNqRqyHgWfer/h/AnIL9mu//pTK4O+J0+57OQ+obRooptWjcvhSNpe2nMsiMGijDdumx+w2L/wJYnVNJyIzd8PTNnMcWcgOqv5IoBvyMknjNtu3xqKypoBuvf7AWNpC4IP4p3aIgElNK2UNqve/lXU2RYxuBrpH5z2Z+tIs4X4scv55uxwAibjggJeI2fbgmUg69U/npZk6cEu4wQBuKrfkNuF53lCXc7EbBuUVUynKuP76S8fh+JPXmOft8ARomnxSl+47zqCU9GmgHhL2+c0BXS8gCmIfVsGLlqGpVZA0sI2UyjnK1dobyqlYmWlg7lGR6oISUFmycdE98A0khV2huaHTgSkeyCA+Bw2KHdsa0zT5T0AD+XnwxM9w8L4kyVELdMINq1y+Kcp8KxyqWkPpGTuaHL432cKDwxx+uO1DC69eHT7pdEMTEI8oosHsh+3rBDREZ+wCr4v74armKPOQ8RTOvRNW5KGuiuHIYcVNDS7Ypo08Mn2eLM9JW0C75xtoU8ih/rhGJIX5IBCl5/lEdrggFXWw24hCovzphrDw1f1Vamv58RJdFfLdJFPj2VOu+fWLsVTZ4ZYXsziTyrskWNJRU9AW+EoOjtQhzjvLcowIMfsTCiOQlNtqLPRMKpk+7lqZMNIVuWDUyeaGdGHpvcEQTX0=',\n",
      "                t: 'MTY3NTMyOTE2Mi4zNjMwMDA=',\n",
      "                m: 'OL3WzVVL/l4H+OnvQI2Mx+QSnwLZd82cxim21Fvl2O0=',\n",
      "                i1: 'mn9h2FTTMCBnQcl6xweT8w==',\n",
      "                i2: 'JaaZ/pS9ZHijTsSkopVprQ==',\n",
      "                zh: '2kfjrLYfAVNem19Lin3oP+VKo7ladb55se1eVtiLLnQ=',\n",
      "                uh: 'nt7XMTXR/apd6cv7jSAmCY2Cyd821IdpbFnv4a3Kzks=',\n",
      "                hh: 'kUYHEl0zk3i+74OOEWwmnbBoUjF7XhVtDyrwHPwh8do=',\n",
      "            }\n",
      "        };\n",
      "        var trkjs = document.createElement('img');\n",
      "        trkjs.setAttribute('src', '/cdn-cgi/images/trace/managed/js/transparent.gif?ray=7931ce80a8ee52b5');\n",
      "        trkjs.setAttribute('alt', '');\n",
      "        trkjs.setAttribute('style', 'display: none');\n",
      "        document.body.appendChild(trkjs);\n",
      "        var cpo = document.createElement('script');\n",
      "        cpo.src = '/cdn-cgi/challenge-platform/h/b/orchestrate/managed/v1?ray=7931ce80a8ee52b5';\n",
      "        window._cf_chl_opt.cOgUHash = location.hash === '' && location.href.indexOf('#') !== -1 ? '#' : location.hash;\n",
      "        window._cf_chl_opt.cOgUQuery = location.search === '' && location.href.slice(0, location.href.length - window._cf_chl_opt.cOgUHash.length).indexOf('?') !== -1 ? '?' : location.search;\n",
      "        if (window.history && window.history.replaceState) {\n",
      "            var ogU = location.pathname + window._cf_chl_opt.cOgUQuery + window._cf_chl_opt.cOgUHash;\n",
      "            history.replaceState(null, null, \"\\/jobs?q=Data+Scientist&l=Bengaluru&from=searchOnHP&vjk=8433613c152443dd&__cf_chl_rt_tk=FvrPOn5JogWTRzSvsgLjxMKSQIPK.spSR4ZeDKR.bMw-1675329162-0-gaNycGzNB70\" + window._cf_chl_opt.cOgUHash);\n",
      "            cpo.onload = function() {\n",
      "                history.replaceState(null, null, ogU);\n",
      "            };\n",
      "        }\n",
      "        document.getElementsByTagName('head')[0].appendChild(cpo);\n",
      "    }());\n",
      "</script>\n",
      "<div class=\"footer\" role=\"contentinfo\">\n",
      "<div class=\"footer-inner\">\n",
      "<div class=\"clearfix diagnostic-wrapper\">\n",
      "<div class=\"ray-id\">Ray ID: <code>7931ce80a8ee52b5</code></div>\n",
      "</div>\n",
      "<div class=\"text-center\" id=\"footer-text\">Performance &amp; security by <a href=\"https://www.cloudflare.com?utm_source=challenge&amp;utm_campaign=m\" rel=\"noopener noreferrer\" target=\"_blank\">Cloudflare</a></div>\n",
      "</div>\n",
      "</div>\n",
      "</body>\n",
      "</html>\n",
      "\n"
     ]
    },
    {
     "data": {
      "text/html": [
       "<div>\n",
       "<style scoped>\n",
       "    .dataframe tbody tr th:only-of-type {\n",
       "        vertical-align: middle;\n",
       "    }\n",
       "\n",
       "    .dataframe tbody tr th {\n",
       "        vertical-align: top;\n",
       "    }\n",
       "\n",
       "    .dataframe thead th {\n",
       "        text-align: right;\n",
       "    }\n",
       "</style>\n",
       "<table border=\"1\" class=\"dataframe\">\n",
       "  <thead>\n",
       "    <tr style=\"text-align: right;\">\n",
       "      <th></th>\n",
       "    </tr>\n",
       "  </thead>\n",
       "  <tbody>\n",
       "  </tbody>\n",
       "</table>\n",
       "</div>"
      ],
      "text/plain": [
       "Empty DataFrame\n",
       "Columns: []\n",
       "Index: []"
      ]
     },
     "execution_count": 47,
     "metadata": {},
     "output_type": "execute_result"
    }
   ],
   "source": [
    "def scrape_job_details(url):\n",
    "    \n",
    "    resp = requests.get(url, headers=HEADERS)\n",
    "    content = BeautifulSoup(resp.content, 'lxml')\n",
    "    print(content)\n",
    "    jobs_list = []    \n",
    "    for post in content.select('.job_seen_beacon'):\n",
    "        try:\n",
    "            data = {\n",
    "                \"job_title\":post.select('.jobTitle')[0].get_text().strip(),\n",
    "                \"company\":post.select('.companyName')[0].get_text().strip(),\n",
    "                \"rating\":post.select('.ratingNumber')[0].get_text().strip(),\n",
    "                \"location\":post.select('.companyLocation')[0].get_text().strip(),\n",
    "                \"date\":post.select('.date')[0].get_text().strip(),\n",
    "                \"job_desc\":post.select('.job-snippet')[0].get_text().strip()\n",
    "                \n",
    "            }\n",
    "        except IndexError:\n",
    "            continue          \n",
    "        jobs_list.append(data)\n",
    "    dataframe = pd.DataFrame(jobs_list)\n",
    "    \n",
    "    return dataframe\n",
    "\n",
    "scrape_job_details(current_url)"
   ]
  },
  {
   "cell_type": "code",
   "execution_count": 60,
   "id": "40ba6f0f",
   "metadata": {},
   "outputs": [
    {
     "name": "stdout",
     "output_type": "stream",
     "text": [
      "[<selenium.webdriver.remote.webelement.WebElement (session=\"ce6d568eb59391dfb4102ee96ebe43ad\", element=\"4b25068c-ccfc-4696-aeb1-d2a2120abab5\")>]\n"
     ]
    }
   ],
   "source": [
    "def scrape_job_details(url):\n",
    "    driver = webdriver.Chrome()\n",
    "    driver.get(url)\n",
    "    time.sleep(3)\n",
    "    p = driver.find_elements(By.CLASS_NAME,\"jobsearch-jobDescriptionText\")\n",
    "    print(p)\n",
    "    driver.close()\n",
    "    return p\n",
    "job_desc = scrape_job_details(current_url)"
   ]
  },
  {
   "cell_type": "code",
   "execution_count": 64,
   "id": "92e156b5",
   "metadata": {},
   "outputs": [
    {
     "ename": "InvalidSessionIdException",
     "evalue": "Message: invalid session id\nStacktrace:\n0   chromedriver                        0x00000001049d4fa8 chromedriver + 4886440\n1   chromedriver                        0x0000000104952643 chromedriver + 4351555\n2   chromedriver                        0x00000001045a099d chromedriver + 477597\n3   chromedriver                        0x00000001045d4c1f chromedriver + 691231\n4   chromedriver                        0x000000010460b4d6 chromedriver + 914646\n5   chromedriver                        0x00000001046073bd chromedriver + 897981\n6   chromedriver                        0x00000001046066df chromedriver + 894687\n7   chromedriver                        0x000000010456ab6a chromedriver + 256874\n8   chromedriver                        0x00000001049a1b9e chromedriver + 4676510\n9   chromedriver                        0x00000001049a691e chromedriver + 4696350\n10  chromedriver                        0x00000001049ae19f chromedriver + 4727199\n11  chromedriver                        0x00000001049a781a chromedriver + 4700186\n12  chromedriver                        0x000000010497aa62 chromedriver + 4516450\n13  chromedriver                        0x00000001045692b4 chromedriver + 250548\n14  dyld                                0x00000002058ac310 start + 2432\n",
     "output_type": "error",
     "traceback": [
      "\u001b[0;31m---------------------------------------------------------------------------\u001b[0m",
      "\u001b[0;31mInvalidSessionIdException\u001b[0m                 Traceback (most recent call last)",
      "Cell \u001b[0;32mIn [64], line 2\u001b[0m\n\u001b[1;32m      1\u001b[0m \u001b[38;5;28;01mfor\u001b[39;00m x \u001b[38;5;129;01min\u001b[39;00m job_desc:\n\u001b[0;32m----> 2\u001b[0m     \u001b[38;5;28mprint\u001b[39m(\u001b[43mx\u001b[49m\u001b[38;5;241;43m.\u001b[39;49m\u001b[43mtext\u001b[49m)\n",
      "File \u001b[0;32m/opt/homebrew/lib/python3.10/site-packages/selenium/webdriver/remote/webelement.py:89\u001b[0m, in \u001b[0;36mWebElement.text\u001b[0;34m(self)\u001b[0m\n\u001b[1;32m     86\u001b[0m \u001b[38;5;129m@property\u001b[39m\n\u001b[1;32m     87\u001b[0m \u001b[38;5;28;01mdef\u001b[39;00m \u001b[38;5;21mtext\u001b[39m(\u001b[38;5;28mself\u001b[39m) \u001b[38;5;241m-\u001b[39m\u001b[38;5;241m>\u001b[39m \u001b[38;5;28mstr\u001b[39m:\n\u001b[1;32m     88\u001b[0m     \u001b[38;5;124;03m\"\"\"The text of the element.\"\"\"\u001b[39;00m\n\u001b[0;32m---> 89\u001b[0m     \u001b[38;5;28;01mreturn\u001b[39;00m \u001b[38;5;28;43mself\u001b[39;49m\u001b[38;5;241;43m.\u001b[39;49m\u001b[43m_execute\u001b[49m\u001b[43m(\u001b[49m\u001b[43mCommand\u001b[49m\u001b[38;5;241;43m.\u001b[39;49m\u001b[43mGET_ELEMENT_TEXT\u001b[49m\u001b[43m)\u001b[49m[\u001b[38;5;124m\"\u001b[39m\u001b[38;5;124mvalue\u001b[39m\u001b[38;5;124m\"\u001b[39m]\n",
      "File \u001b[0;32m/opt/homebrew/lib/python3.10/site-packages/selenium/webdriver/remote/webelement.py:403\u001b[0m, in \u001b[0;36mWebElement._execute\u001b[0;34m(self, command, params)\u001b[0m\n\u001b[1;32m    401\u001b[0m     params \u001b[38;5;241m=\u001b[39m {}\n\u001b[1;32m    402\u001b[0m params[\u001b[38;5;124m\"\u001b[39m\u001b[38;5;124mid\u001b[39m\u001b[38;5;124m\"\u001b[39m] \u001b[38;5;241m=\u001b[39m \u001b[38;5;28mself\u001b[39m\u001b[38;5;241m.\u001b[39m_id\n\u001b[0;32m--> 403\u001b[0m \u001b[38;5;28;01mreturn\u001b[39;00m \u001b[38;5;28;43mself\u001b[39;49m\u001b[38;5;241;43m.\u001b[39;49m\u001b[43m_parent\u001b[49m\u001b[38;5;241;43m.\u001b[39;49m\u001b[43mexecute\u001b[49m\u001b[43m(\u001b[49m\u001b[43mcommand\u001b[49m\u001b[43m,\u001b[49m\u001b[43m \u001b[49m\u001b[43mparams\u001b[49m\u001b[43m)\u001b[49m\n",
      "File \u001b[0;32m/opt/homebrew/lib/python3.10/site-packages/selenium/webdriver/remote/webdriver.py:440\u001b[0m, in \u001b[0;36mWebDriver.execute\u001b[0;34m(self, driver_command, params)\u001b[0m\n\u001b[1;32m    438\u001b[0m response \u001b[38;5;241m=\u001b[39m \u001b[38;5;28mself\u001b[39m\u001b[38;5;241m.\u001b[39mcommand_executor\u001b[38;5;241m.\u001b[39mexecute(driver_command, params)\n\u001b[1;32m    439\u001b[0m \u001b[38;5;28;01mif\u001b[39;00m response:\n\u001b[0;32m--> 440\u001b[0m     \u001b[38;5;28;43mself\u001b[39;49m\u001b[38;5;241;43m.\u001b[39;49m\u001b[43merror_handler\u001b[49m\u001b[38;5;241;43m.\u001b[39;49m\u001b[43mcheck_response\u001b[49m\u001b[43m(\u001b[49m\u001b[43mresponse\u001b[49m\u001b[43m)\u001b[49m\n\u001b[1;32m    441\u001b[0m     response[\u001b[38;5;124m\"\u001b[39m\u001b[38;5;124mvalue\u001b[39m\u001b[38;5;124m\"\u001b[39m] \u001b[38;5;241m=\u001b[39m \u001b[38;5;28mself\u001b[39m\u001b[38;5;241m.\u001b[39m_unwrap_value(response\u001b[38;5;241m.\u001b[39mget(\u001b[38;5;124m\"\u001b[39m\u001b[38;5;124mvalue\u001b[39m\u001b[38;5;124m\"\u001b[39m, \u001b[38;5;28;01mNone\u001b[39;00m))\n\u001b[1;32m    442\u001b[0m     \u001b[38;5;28;01mreturn\u001b[39;00m response\n",
      "File \u001b[0;32m/opt/homebrew/lib/python3.10/site-packages/selenium/webdriver/remote/errorhandler.py:245\u001b[0m, in \u001b[0;36mErrorHandler.check_response\u001b[0;34m(self, response)\u001b[0m\n\u001b[1;32m    243\u001b[0m         alert_text \u001b[38;5;241m=\u001b[39m value[\u001b[38;5;124m\"\u001b[39m\u001b[38;5;124malert\u001b[39m\u001b[38;5;124m\"\u001b[39m]\u001b[38;5;241m.\u001b[39mget(\u001b[38;5;124m\"\u001b[39m\u001b[38;5;124mtext\u001b[39m\u001b[38;5;124m\"\u001b[39m)\n\u001b[1;32m    244\u001b[0m     \u001b[38;5;28;01mraise\u001b[39;00m exception_class(message, screen, stacktrace, alert_text)  \u001b[38;5;66;03m# type: ignore[call-arg]  # mypy is not smart enough here\u001b[39;00m\n\u001b[0;32m--> 245\u001b[0m \u001b[38;5;28;01mraise\u001b[39;00m exception_class(message, screen, stacktrace)\n",
      "\u001b[0;31mInvalidSessionIdException\u001b[0m: Message: invalid session id\nStacktrace:\n0   chromedriver                        0x00000001049d4fa8 chromedriver + 4886440\n1   chromedriver                        0x0000000104952643 chromedriver + 4351555\n2   chromedriver                        0x00000001045a099d chromedriver + 477597\n3   chromedriver                        0x00000001045d4c1f chromedriver + 691231\n4   chromedriver                        0x000000010460b4d6 chromedriver + 914646\n5   chromedriver                        0x00000001046073bd chromedriver + 897981\n6   chromedriver                        0x00000001046066df chromedriver + 894687\n7   chromedriver                        0x000000010456ab6a chromedriver + 256874\n8   chromedriver                        0x00000001049a1b9e chromedriver + 4676510\n9   chromedriver                        0x00000001049a691e chromedriver + 4696350\n10  chromedriver                        0x00000001049ae19f chromedriver + 4727199\n11  chromedriver                        0x00000001049a781a chromedriver + 4700186\n12  chromedriver                        0x000000010497aa62 chromedriver + 4516450\n13  chromedriver                        0x00000001045692b4 chromedriver + 250548\n14  dyld                                0x00000002058ac310 start + 2432\n"
     ]
    }
   ],
   "source": [
    "for x in job_desc:\n",
    "    print(x.text)"
   ]
  },
  {
   "cell_type": "code",
   "execution_count": 59,
   "id": "299f19c3",
   "metadata": {},
   "outputs": [
    {
     "ename": "InvalidSessionIdException",
     "evalue": "Message: invalid session id\nStacktrace:\n0   chromedriver                        0x00000001044c1fa8 chromedriver + 4886440\n1   chromedriver                        0x000000010443f643 chromedriver + 4351555\n2   chromedriver                        0x000000010408d99d chromedriver + 477597\n3   chromedriver                        0x00000001040c1c1f chromedriver + 691231\n4   chromedriver                        0x00000001040f84d6 chromedriver + 914646\n5   chromedriver                        0x00000001040f43bd chromedriver + 897981\n6   chromedriver                        0x00000001040f36df chromedriver + 894687\n7   chromedriver                        0x0000000104057b6a chromedriver + 256874\n8   chromedriver                        0x000000010448eb9e chromedriver + 4676510\n9   chromedriver                        0x000000010449391e chromedriver + 4696350\n10  chromedriver                        0x000000010449b19f chromedriver + 4727199\n11  chromedriver                        0x000000010449481a chromedriver + 4700186\n12  chromedriver                        0x0000000104467a62 chromedriver + 4516450\n13  chromedriver                        0x00000001040562b4 chromedriver + 250548\n14  dyld                                0x00000002053e2310 start + 2432\n",
     "output_type": "error",
     "traceback": [
      "\u001b[0;31m---------------------------------------------------------------------------\u001b[0m",
      "\u001b[0;31mInvalidSessionIdException\u001b[0m                 Traceback (most recent call last)",
      "Cell \u001b[0;32mIn [59], line 1\u001b[0m\n\u001b[0;32m----> 1\u001b[0m \u001b[38;5;28mprint\u001b[39m(\u001b[43mjob_desc\u001b[49m\u001b[38;5;241;43m.\u001b[39;49m\u001b[43mtext\u001b[49m)\n",
      "File \u001b[0;32m/opt/homebrew/lib/python3.10/site-packages/selenium/webdriver/remote/webelement.py:89\u001b[0m, in \u001b[0;36mWebElement.text\u001b[0;34m(self)\u001b[0m\n\u001b[1;32m     86\u001b[0m \u001b[38;5;129m@property\u001b[39m\n\u001b[1;32m     87\u001b[0m \u001b[38;5;28;01mdef\u001b[39;00m \u001b[38;5;21mtext\u001b[39m(\u001b[38;5;28mself\u001b[39m) \u001b[38;5;241m-\u001b[39m\u001b[38;5;241m>\u001b[39m \u001b[38;5;28mstr\u001b[39m:\n\u001b[1;32m     88\u001b[0m     \u001b[38;5;124;03m\"\"\"The text of the element.\"\"\"\u001b[39;00m\n\u001b[0;32m---> 89\u001b[0m     \u001b[38;5;28;01mreturn\u001b[39;00m \u001b[38;5;28;43mself\u001b[39;49m\u001b[38;5;241;43m.\u001b[39;49m\u001b[43m_execute\u001b[49m\u001b[43m(\u001b[49m\u001b[43mCommand\u001b[49m\u001b[38;5;241;43m.\u001b[39;49m\u001b[43mGET_ELEMENT_TEXT\u001b[49m\u001b[43m)\u001b[49m[\u001b[38;5;124m\"\u001b[39m\u001b[38;5;124mvalue\u001b[39m\u001b[38;5;124m\"\u001b[39m]\n",
      "File \u001b[0;32m/opt/homebrew/lib/python3.10/site-packages/selenium/webdriver/remote/webelement.py:403\u001b[0m, in \u001b[0;36mWebElement._execute\u001b[0;34m(self, command, params)\u001b[0m\n\u001b[1;32m    401\u001b[0m     params \u001b[38;5;241m=\u001b[39m {}\n\u001b[1;32m    402\u001b[0m params[\u001b[38;5;124m\"\u001b[39m\u001b[38;5;124mid\u001b[39m\u001b[38;5;124m\"\u001b[39m] \u001b[38;5;241m=\u001b[39m \u001b[38;5;28mself\u001b[39m\u001b[38;5;241m.\u001b[39m_id\n\u001b[0;32m--> 403\u001b[0m \u001b[38;5;28;01mreturn\u001b[39;00m \u001b[38;5;28;43mself\u001b[39;49m\u001b[38;5;241;43m.\u001b[39;49m\u001b[43m_parent\u001b[49m\u001b[38;5;241;43m.\u001b[39;49m\u001b[43mexecute\u001b[49m\u001b[43m(\u001b[49m\u001b[43mcommand\u001b[49m\u001b[43m,\u001b[49m\u001b[43m \u001b[49m\u001b[43mparams\u001b[49m\u001b[43m)\u001b[49m\n",
      "File \u001b[0;32m/opt/homebrew/lib/python3.10/site-packages/selenium/webdriver/remote/webdriver.py:440\u001b[0m, in \u001b[0;36mWebDriver.execute\u001b[0;34m(self, driver_command, params)\u001b[0m\n\u001b[1;32m    438\u001b[0m response \u001b[38;5;241m=\u001b[39m \u001b[38;5;28mself\u001b[39m\u001b[38;5;241m.\u001b[39mcommand_executor\u001b[38;5;241m.\u001b[39mexecute(driver_command, params)\n\u001b[1;32m    439\u001b[0m \u001b[38;5;28;01mif\u001b[39;00m response:\n\u001b[0;32m--> 440\u001b[0m     \u001b[38;5;28;43mself\u001b[39;49m\u001b[38;5;241;43m.\u001b[39;49m\u001b[43merror_handler\u001b[49m\u001b[38;5;241;43m.\u001b[39;49m\u001b[43mcheck_response\u001b[49m\u001b[43m(\u001b[49m\u001b[43mresponse\u001b[49m\u001b[43m)\u001b[49m\n\u001b[1;32m    441\u001b[0m     response[\u001b[38;5;124m\"\u001b[39m\u001b[38;5;124mvalue\u001b[39m\u001b[38;5;124m\"\u001b[39m] \u001b[38;5;241m=\u001b[39m \u001b[38;5;28mself\u001b[39m\u001b[38;5;241m.\u001b[39m_unwrap_value(response\u001b[38;5;241m.\u001b[39mget(\u001b[38;5;124m\"\u001b[39m\u001b[38;5;124mvalue\u001b[39m\u001b[38;5;124m\"\u001b[39m, \u001b[38;5;28;01mNone\u001b[39;00m))\n\u001b[1;32m    442\u001b[0m     \u001b[38;5;28;01mreturn\u001b[39;00m response\n",
      "File \u001b[0;32m/opt/homebrew/lib/python3.10/site-packages/selenium/webdriver/remote/errorhandler.py:245\u001b[0m, in \u001b[0;36mErrorHandler.check_response\u001b[0;34m(self, response)\u001b[0m\n\u001b[1;32m    243\u001b[0m         alert_text \u001b[38;5;241m=\u001b[39m value[\u001b[38;5;124m\"\u001b[39m\u001b[38;5;124malert\u001b[39m\u001b[38;5;124m\"\u001b[39m]\u001b[38;5;241m.\u001b[39mget(\u001b[38;5;124m\"\u001b[39m\u001b[38;5;124mtext\u001b[39m\u001b[38;5;124m\"\u001b[39m)\n\u001b[1;32m    244\u001b[0m     \u001b[38;5;28;01mraise\u001b[39;00m exception_class(message, screen, stacktrace, alert_text)  \u001b[38;5;66;03m# type: ignore[call-arg]  # mypy is not smart enough here\u001b[39;00m\n\u001b[0;32m--> 245\u001b[0m \u001b[38;5;28;01mraise\u001b[39;00m exception_class(message, screen, stacktrace)\n",
      "\u001b[0;31mInvalidSessionIdException\u001b[0m: Message: invalid session id\nStacktrace:\n0   chromedriver                        0x00000001044c1fa8 chromedriver + 4886440\n1   chromedriver                        0x000000010443f643 chromedriver + 4351555\n2   chromedriver                        0x000000010408d99d chromedriver + 477597\n3   chromedriver                        0x00000001040c1c1f chromedriver + 691231\n4   chromedriver                        0x00000001040f84d6 chromedriver + 914646\n5   chromedriver                        0x00000001040f43bd chromedriver + 897981\n6   chromedriver                        0x00000001040f36df chromedriver + 894687\n7   chromedriver                        0x0000000104057b6a chromedriver + 256874\n8   chromedriver                        0x000000010448eb9e chromedriver + 4676510\n9   chromedriver                        0x000000010449391e chromedriver + 4696350\n10  chromedriver                        0x000000010449b19f chromedriver + 4727199\n11  chromedriver                        0x000000010449481a chromedriver + 4700186\n12  chromedriver                        0x0000000104467a62 chromedriver + 4516450\n13  chromedriver                        0x00000001040562b4 chromedriver + 250548\n14  dyld                                0x00000002053e2310 start + 2432\n"
     ]
    }
   ],
   "source": [
    "print(job_desc.text)"
   ]
  },
  {
   "cell_type": "code",
   "execution_count": 66,
   "id": "c8a66823",
   "metadata": {},
   "outputs": [
    {
     "ename": "ElementClickInterceptedException",
     "evalue": "Message: element click intercepted: Element <input class=\"form-control keywords search-keywords homepage-what ui-autocomplete-input\" type=\"search\" name=\"Keywords\" id=\"keywords\" placeholder=\"Job title, skill or company\" spellcheck=\"false\" autocorrect=\"off\" autocapitalize=\"none\" autocomplete=\"off\"> is not clickable at point (261, 437). Other element would receive the click: <section id=\"explicit_consent\" class=\"prompt-container\">...</section>\n  (Session info: chrome=109.0.5414.119)\nStacktrace:\n0   chromedriver                        0x0000000101445fa8 chromedriver + 4886440\n1   chromedriver                        0x00000001013c3643 chromedriver + 4351555\n2   chromedriver                        0x0000000101011b27 chromedriver + 477991\n3   chromedriver                        0x000000010105fa78 chromedriver + 797304\n4   chromedriver                        0x000000010105ce7c chromedriver + 786044\n5   chromedriver                        0x0000000101059a94 chromedriver + 772756\n6   chromedriver                        0x00000001010585ab chromedriver + 767403\n7   chromedriver                        0x0000000101048d73 chromedriver + 703859\n8   chromedriver                        0x000000010107c5d2 chromedriver + 914898\n9   chromedriver                        0x00000001010483dd chromedriver + 701405\n10  chromedriver                        0x000000010107c78e chromedriver + 915342\n11  chromedriver                        0x00000001010975fe chromedriver + 1025534\n12  chromedriver                        0x000000010107c3a3 chromedriver + 914339\n13  chromedriver                        0x000000010104657f chromedriver + 693631\n14  chromedriver                        0x0000000101047b1e chromedriver + 699166\n15  chromedriver                        0x0000000101412b9e chromedriver + 4676510\n16  chromedriver                        0x000000010141791e chromedriver + 4696350\n17  chromedriver                        0x000000010141f19f chromedriver + 4727199\n18  chromedriver                        0x000000010141881a chromedriver + 4700186\n19  chromedriver                        0x00000001013eba62 chromedriver + 4516450\n20  chromedriver                        0x00000001014378c8 chromedriver + 4827336\n21  chromedriver                        0x0000000101437a45 chromedriver + 4827717\n22  chromedriver                        0x000000010144d7ef chromedriver + 4917231\n23  libsystem_pthread.dylib             0x00007ff8180ab259 _pthread_start + 125\n24  libsystem_pthread.dylib             0x00007ff8180a6c7b thread_start + 15\n",
     "output_type": "error",
     "traceback": [
      "\u001b[0;31m---------------------------------------------------------------------------\u001b[0m",
      "\u001b[0;31mElementClickInterceptedException\u001b[0m          Traceback (most recent call last)",
      "Cell \u001b[0;32mIn [66], line 6\u001b[0m\n\u001b[1;32m      3\u001b[0m driver\u001b[38;5;241m.\u001b[39mget(\u001b[38;5;124m'\u001b[39m\u001b[38;5;124mhttps://www.jobsite.co.uk/\u001b[39m\u001b[38;5;124m'\u001b[39m)\n\u001b[1;32m      5\u001b[0m job_title\u001b[38;5;241m=\u001b[39mdriver\u001b[38;5;241m.\u001b[39mfind_element(By\u001b[38;5;241m.\u001b[39mID,\u001b[38;5;124m'\u001b[39m\u001b[38;5;124mkeywords\u001b[39m\u001b[38;5;124m'\u001b[39m)\n\u001b[0;32m----> 6\u001b[0m \u001b[43mjob_title\u001b[49m\u001b[38;5;241;43m.\u001b[39;49m\u001b[43mclick\u001b[49m\u001b[43m(\u001b[49m\u001b[43m)\u001b[49m\n\u001b[1;32m      7\u001b[0m job_title\u001b[38;5;241m.\u001b[39msend_keys(\u001b[38;5;124m'\u001b[39m\u001b[38;5;124mSoftware Engineer\u001b[39m\u001b[38;5;124m'\u001b[39m)\n\u001b[1;32m      9\u001b[0m location\u001b[38;5;241m=\u001b[39mdriver\u001b[38;5;241m.\u001b[39mfind_element(By\u001b[38;5;241m.\u001b[39mID,\u001b[38;5;124m'\u001b[39m\u001b[38;5;124mlocation\u001b[39m\u001b[38;5;124m'\u001b[39m)\n",
      "File \u001b[0;32m/opt/homebrew/lib/python3.10/site-packages/selenium/webdriver/remote/webelement.py:93\u001b[0m, in \u001b[0;36mWebElement.click\u001b[0;34m(self)\u001b[0m\n\u001b[1;32m     91\u001b[0m \u001b[38;5;28;01mdef\u001b[39;00m \u001b[38;5;21mclick\u001b[39m(\u001b[38;5;28mself\u001b[39m) \u001b[38;5;241m-\u001b[39m\u001b[38;5;241m>\u001b[39m \u001b[38;5;28;01mNone\u001b[39;00m:\n\u001b[1;32m     92\u001b[0m     \u001b[38;5;124;03m\"\"\"Clicks the element.\"\"\"\u001b[39;00m\n\u001b[0;32m---> 93\u001b[0m     \u001b[38;5;28;43mself\u001b[39;49m\u001b[38;5;241;43m.\u001b[39;49m\u001b[43m_execute\u001b[49m\u001b[43m(\u001b[49m\u001b[43mCommand\u001b[49m\u001b[38;5;241;43m.\u001b[39;49m\u001b[43mCLICK_ELEMENT\u001b[49m\u001b[43m)\u001b[49m\n",
      "File \u001b[0;32m/opt/homebrew/lib/python3.10/site-packages/selenium/webdriver/remote/webelement.py:403\u001b[0m, in \u001b[0;36mWebElement._execute\u001b[0;34m(self, command, params)\u001b[0m\n\u001b[1;32m    401\u001b[0m     params \u001b[38;5;241m=\u001b[39m {}\n\u001b[1;32m    402\u001b[0m params[\u001b[38;5;124m\"\u001b[39m\u001b[38;5;124mid\u001b[39m\u001b[38;5;124m\"\u001b[39m] \u001b[38;5;241m=\u001b[39m \u001b[38;5;28mself\u001b[39m\u001b[38;5;241m.\u001b[39m_id\n\u001b[0;32m--> 403\u001b[0m \u001b[38;5;28;01mreturn\u001b[39;00m \u001b[38;5;28;43mself\u001b[39;49m\u001b[38;5;241;43m.\u001b[39;49m\u001b[43m_parent\u001b[49m\u001b[38;5;241;43m.\u001b[39;49m\u001b[43mexecute\u001b[49m\u001b[43m(\u001b[49m\u001b[43mcommand\u001b[49m\u001b[43m,\u001b[49m\u001b[43m \u001b[49m\u001b[43mparams\u001b[49m\u001b[43m)\u001b[49m\n",
      "File \u001b[0;32m/opt/homebrew/lib/python3.10/site-packages/selenium/webdriver/remote/webdriver.py:440\u001b[0m, in \u001b[0;36mWebDriver.execute\u001b[0;34m(self, driver_command, params)\u001b[0m\n\u001b[1;32m    438\u001b[0m response \u001b[38;5;241m=\u001b[39m \u001b[38;5;28mself\u001b[39m\u001b[38;5;241m.\u001b[39mcommand_executor\u001b[38;5;241m.\u001b[39mexecute(driver_command, params)\n\u001b[1;32m    439\u001b[0m \u001b[38;5;28;01mif\u001b[39;00m response:\n\u001b[0;32m--> 440\u001b[0m     \u001b[38;5;28;43mself\u001b[39;49m\u001b[38;5;241;43m.\u001b[39;49m\u001b[43merror_handler\u001b[49m\u001b[38;5;241;43m.\u001b[39;49m\u001b[43mcheck_response\u001b[49m\u001b[43m(\u001b[49m\u001b[43mresponse\u001b[49m\u001b[43m)\u001b[49m\n\u001b[1;32m    441\u001b[0m     response[\u001b[38;5;124m\"\u001b[39m\u001b[38;5;124mvalue\u001b[39m\u001b[38;5;124m\"\u001b[39m] \u001b[38;5;241m=\u001b[39m \u001b[38;5;28mself\u001b[39m\u001b[38;5;241m.\u001b[39m_unwrap_value(response\u001b[38;5;241m.\u001b[39mget(\u001b[38;5;124m\"\u001b[39m\u001b[38;5;124mvalue\u001b[39m\u001b[38;5;124m\"\u001b[39m, \u001b[38;5;28;01mNone\u001b[39;00m))\n\u001b[1;32m    442\u001b[0m     \u001b[38;5;28;01mreturn\u001b[39;00m response\n",
      "File \u001b[0;32m/opt/homebrew/lib/python3.10/site-packages/selenium/webdriver/remote/errorhandler.py:245\u001b[0m, in \u001b[0;36mErrorHandler.check_response\u001b[0;34m(self, response)\u001b[0m\n\u001b[1;32m    243\u001b[0m         alert_text \u001b[38;5;241m=\u001b[39m value[\u001b[38;5;124m\"\u001b[39m\u001b[38;5;124malert\u001b[39m\u001b[38;5;124m\"\u001b[39m]\u001b[38;5;241m.\u001b[39mget(\u001b[38;5;124m\"\u001b[39m\u001b[38;5;124mtext\u001b[39m\u001b[38;5;124m\"\u001b[39m)\n\u001b[1;32m    244\u001b[0m     \u001b[38;5;28;01mraise\u001b[39;00m exception_class(message, screen, stacktrace, alert_text)  \u001b[38;5;66;03m# type: ignore[call-arg]  # mypy is not smart enough here\u001b[39;00m\n\u001b[0;32m--> 245\u001b[0m \u001b[38;5;28;01mraise\u001b[39;00m exception_class(message, screen, stacktrace)\n",
      "\u001b[0;31mElementClickInterceptedException\u001b[0m: Message: element click intercepted: Element <input class=\"form-control keywords search-keywords homepage-what ui-autocomplete-input\" type=\"search\" name=\"Keywords\" id=\"keywords\" placeholder=\"Job title, skill or company\" spellcheck=\"false\" autocorrect=\"off\" autocapitalize=\"none\" autocomplete=\"off\"> is not clickable at point (261, 437). Other element would receive the click: <section id=\"explicit_consent\" class=\"prompt-container\">...</section>\n  (Session info: chrome=109.0.5414.119)\nStacktrace:\n0   chromedriver                        0x0000000101445fa8 chromedriver + 4886440\n1   chromedriver                        0x00000001013c3643 chromedriver + 4351555\n2   chromedriver                        0x0000000101011b27 chromedriver + 477991\n3   chromedriver                        0x000000010105fa78 chromedriver + 797304\n4   chromedriver                        0x000000010105ce7c chromedriver + 786044\n5   chromedriver                        0x0000000101059a94 chromedriver + 772756\n6   chromedriver                        0x00000001010585ab chromedriver + 767403\n7   chromedriver                        0x0000000101048d73 chromedriver + 703859\n8   chromedriver                        0x000000010107c5d2 chromedriver + 914898\n9   chromedriver                        0x00000001010483dd chromedriver + 701405\n10  chromedriver                        0x000000010107c78e chromedriver + 915342\n11  chromedriver                        0x00000001010975fe chromedriver + 1025534\n12  chromedriver                        0x000000010107c3a3 chromedriver + 914339\n13  chromedriver                        0x000000010104657f chromedriver + 693631\n14  chromedriver                        0x0000000101047b1e chromedriver + 699166\n15  chromedriver                        0x0000000101412b9e chromedriver + 4676510\n16  chromedriver                        0x000000010141791e chromedriver + 4696350\n17  chromedriver                        0x000000010141f19f chromedriver + 4727199\n18  chromedriver                        0x000000010141881a chromedriver + 4700186\n19  chromedriver                        0x00000001013eba62 chromedriver + 4516450\n20  chromedriver                        0x00000001014378c8 chromedriver + 4827336\n21  chromedriver                        0x0000000101437a45 chromedriver + 4827717\n22  chromedriver                        0x000000010144d7ef chromedriver + 4917231\n23  libsystem_pthread.dylib             0x00007ff8180ab259 _pthread_start + 125\n24  libsystem_pthread.dylib             0x00007ff8180a6c7b thread_start + 15\n"
     ]
    }
   ],
   "source": [
    "driver=webdriver.Chrome()\n",
    "\n",
    "driver.get('https://www.jobsite.co.uk/')\n",
    "\n",
    "job_title=driver.find_element(By.ID,'keywords')\n",
    "job_title.click()\n",
    "job_title.send_keys('Software Engineer')\n",
    "\n",
    "location=driver.find_element(By.ID,'location')\n",
    "location.click()\n",
    "location.send_keys('Manchester')\n",
    "\n",
    "dropdown=driver.find_element(By.ID,'Radius')\n",
    "radius=Select(dropdown)\n",
    "radius.select_by_visible_text('30 miles')"
   ]
  },
  {
   "cell_type": "code",
   "execution_count": 69,
   "id": "68802386",
   "metadata": {},
   "outputs": [],
   "source": [
    "import requests\n",
    "import bs4\n",
    "from bs4 import BeautifulSoup \n",
    "import pandas as pd\n",
    "import time"
   ]
  },
  {
   "cell_type": "code",
   "execution_count": 74,
   "id": "35fd04db",
   "metadata": {},
   "outputs": [
    {
     "name": "stdout",
     "output_type": "stream",
     "text": [
      "<!DOCTYPE html>\n",
      "<html lang=\"en-US\">\n",
      " <head>\n",
      "  <title>\n",
      "   Access denied\n",
      "  </title>\n",
      "  <meta content=\"IE=Edge\" http-equiv=\"X-UA-Compatible\"/>\n",
      "  <meta content=\"noindex, nofollow\" name=\"robots\"/>\n",
      "  <meta content=\"width=device-width,initial-scale=1\" name=\"viewport\"/>\n",
      "  <link href=\"/cdn-cgi/styles/errors.css\" media=\"screen\" rel=\"stylesheet\"/>\n",
      "  <script>\n",
      "   (function(){if(document.addEventListener&&window.XMLHttpRequest&&JSON&&JSON.stringify){var e=function(a){var c=document.getElementById(\"error-feedback-survey\"),d=document.getElementById(\"error-feedback-success\"),b=new XMLHttpRequest;a={event:\"feedback clicked\",properties:{errorCode:1020,helpful:a,version:5}};b.open(\"POST\",\"https://sparrow.cloudflare.com/api/v1/event\");b.setRequestHeader(\"Content-Type\",\"application/json\");b.setRequestHeader(\"Sparrow-Source-Key\",\"c771f0e4b54944bebf4261d44bd79a1e\");\n",
      "b.send(JSON.stringify(a));c.classList.add(\"feedback-hidden\");d.classList.remove(\"feedback-hidden\")};document.addEventListener(\"DOMContentLoaded\",function(){var a=document.getElementById(\"error-feedback\"),c=document.getElementById(\"feedback-button-yes\"),d=document.getElementById(\"feedback-button-no\");\"classList\"in a&&(a.classList.remove(\"feedback-hidden\"),c.addEventListener(\"click\",function(){e(!0)}),d.addEventListener(\"click\",function(){e(!1)}))})}})();\n",
      "  </script>\n",
      "  <script>\n",
      "   (function(){function d(c){var b=document.getElementById(\"copy-label\"),a=document.getElementById(\"cf-details-wrapper-expandable\");c.target.checked?a.classList.add(\"expanded\"):(a.classList.remove(\"expanded\"),b.innerText=\"Click to copy\")}if(document.addEventListener){var e=function(){var c=document.getElementById(\"copy-label\");var b=document.getElementById(\"error-details\").textContent;if(navigator.clipboard)navigator.clipboard.writeText(b);else{var a=document.createElement(\"textarea\");a.value=b;a.style.top=\"0\";a.style.left=\"0\";a.style.position=\"fixed\";document.body.appendChild(a);a.focus();a.select();document.execCommand(\"copy\");document.body.removeChild(a)}c.innerText=\"Copied text to clipboard\"};document.addEventListener(\"DOMContentLoaded\",function(){var c=document.getElementById(\"error-details-checkbox\"),b=document.getElementById(\"click-to-copy-btn\");document.getElementById(\"copy-label\").classList.remove(\"hidden\");c.addEventListener(\"change\",d);b.addEventListener(\"click\",e)})}})();\n",
      "  </script>\n",
      "  <script defer=\"\" src=\"https://performance.radar.cloudflare.com/beacon.js\">\n",
      "  </script>\n",
      " </head>\n",
      " <body>\n",
      "  <div class=\"cf-main-wrapper\" role=\"main\">\n",
      "   <div class=\"cf-header cf-section\">\n",
      "    <div class=\"cf-error-title\">\n",
      "     <h1>\n",
      "      Access denied\n",
      "     </h1>\n",
      "     <span class=\"cf-code-label\">\n",
      "      Error code\n",
      "      <span>\n",
      "       1020\n",
      "      </span>\n",
      "     </span>\n",
      "    </div>\n",
      "    <div class=\"cf-error-description\">\n",
      "     <p>\n",
      "      You do not have access to www.indeed.com.\n",
      "     </p>\n",
      "     <p>\n",
      "      The site owner may have set restrictions that prevent you from accessing the site.\n",
      "     </p>\n",
      "    </div>\n",
      "   </div>\n",
      "  </div>\n",
      "  <div class=\"cf-details-wrapper\">\n",
      "   <div class=\"cf-section\" role=\"region\">\n",
      "    <div class=\"cf-expandable\" id=\"cf-details-wrapper-expandable\">\n",
      "     <label class=\"cf-expandable-btn\" for=\"error-details-checkbox\" title=\"Error details\">\n",
      "      <p class=\"cf-dropdown-title\">\n",
      "       Error details\n",
      "      </p>\n",
      "      <img alt=\"Caret icon\" class=\"cf-caret-icon\" id=\"caret-icon\" src=\"data:image/png;base64,iVBORw0KGgoAAAANSUhEUgAAACAAAAAgBAMAAACBVGfHAAAAElBMVEUAAAAwMDAxMTEyMjIwMDAxMTF+89HTAAAABXRSTlMAf2CAMKS61bwAAABTSURBVCjPzcq7DcAgFENR5zMATfo06TNCViAS+6+CeFi6gglw4eLqaPVtaQpXnkApaQT/k0dw70EAUhCA1AnABGACMAGYAEwAkCOAydv+I5xaZhXWbQrD80TkkQAAAABJRU5ErkJggg==\"/>\n",
      "     </label>\n",
      "     <input class=\"hidden\" id=\"error-details-checkbox\" type=\"checkbox\"/>\n",
      "     <div class=\"cf-expandable-error-info hidden\">\n",
      "      <p class=\"cf-error-copy-description\">\n",
      "       Provide the site owner this information.\n",
      "      </p>\n",
      "      <button class=\"cf-click-to-copy-btn\" id=\"click-to-copy-btn\" title=\"Click to copy\" type=\"button\">\n",
      "       <div class=\"cf-error-wrapper\" id=\"error-details\">\n",
      "        <p class=\"cf-error-details-endpoint\">\n",
      "         I got an error when visiting www.indeed.com/jobs?q=data+scientist+%2420%2C000&amp;l=New+York&amp;start=10.\n",
      "        </p>\n",
      "        <p>\n",
      "         Error code: 1020\n",
      "        </p>\n",
      "        <p>\n",
      "         Ray ID: 79347b33fa9ff3e5\n",
      "        </p>\n",
      "        <p>\n",
      "         Country: IN\n",
      "        </p>\n",
      "        <p>\n",
      "         Data center: bom09\n",
      "        </p>\n",
      "        <p>\n",
      "         IP: 122.164.87.80\n",
      "        </p>\n",
      "        <p>\n",
      "         Timestamp: 2023-02-02 17:00:07 UTC\n",
      "        </p>\n",
      "       </div>\n",
      "       <p class=\"cf-copy-label hidden\" id=\"copy-label\">\n",
      "        Click to copy\n",
      "       </p>\n",
      "      </button>\n",
      "     </div>\n",
      "    </div>\n",
      "   </div>\n",
      "   <div class=\"clearfix cf-footer cf-section\" role=\"contentinfo\">\n",
      "    <div class=\"cf-column\">\n",
      "     <div class=\"feedback-hidden py-8 text-center\" id=\"error-feedback\">\n",
      "      <div class=\"footer-line-wrapper\" id=\"error-feedback-survey\">\n",
      "       Was this page helpful?\n",
      "       <button class=\"border border-solid bg-white cf-button cursor-pointer ml-4 px-4 py-2 rounded\" id=\"feedback-button-yes\" type=\"button\">\n",
      "        Yes\n",
      "       </button>\n",
      "       <button class=\"border border-solid bg-white cf-button cursor-pointer ml-4 px-4 py-2 rounded\" id=\"feedback-button-no\" type=\"button\">\n",
      "        No\n",
      "       </button>\n",
      "      </div>\n",
      "      <div class=\"feedback-success feedback-hidden\" id=\"error-feedback-success\">\n",
      "       Thank you for your feedback!\n",
      "      </div>\n",
      "     </div>\n",
      "    </div>\n",
      "    <div class=\"cf-column cf-footer-line-wrapper text-center\">\n",
      "     <p>\n",
      "      Performance &amp; security by\n",
      "      <a href=\"https://www.cloudflare.com?utm_source=1020_error\" rel=\"noopener noreferrer\" target=\"_blank\">\n",
      "       Cloudflare\n",
      "       <img alt=\"External link\" class=\"external-link\" src=\"/cdn-cgi/images/external.png\" title=\"Opens in new tab\"/>\n",
      "      </a>\n",
      "     </p>\n",
      "    </div>\n",
      "   </div>\n",
      "  </div>\n",
      "  <script crossorigin=\"anonymous\" data-cf-beacon='{\"rayId\":\"79347b33fa9ff3e5\",\"token\":\"47161d92b8b74ef5b23469b91c2535c6\",\"version\":\"2022.11.3\",\"si\":100}' defer=\"\" integrity=\"sha512-0ahDYl866UMhKuYcW078ScMalXqtFJggm7TmlUtp0UlD4eQk0Ixfnm5ykXKvGJNFjLMoortdseTfsRT8oCfgGA==\" src=\"https://static.cloudflareinsights.com/beacon.min.js/vaafb692b2aea4879b33c060e79fe94621666317369993\">\n",
      "  </script>\n",
      " </body>\n",
      "</html>\n",
      "\n"
     ]
    }
   ],
   "source": [
    "URL = \"https://www.indeed.com/jobs?q=data+scientist+%2420%2C000&l=New+York&start=10\"\n",
    "#conducting a request of the stated URL above:\n",
    "page = requests.get(URL) #specifying a desired format of “page” using the html parser - this allows python to read the various components of the page, rather than treating it as one long string.\n",
    "soup = BeautifulSoup(page.text, \"html.parser\") #printing soup in a more structured tree format that makes for easier reading\n",
    "print(soup.prettify())"
   ]
  },
  {
   "cell_type": "code",
   "execution_count": 78,
   "id": "6f178148",
   "metadata": {},
   "outputs": [
    {
     "data": {
      "text/plain": [
       "[]"
      ]
     },
     "execution_count": 78,
     "metadata": {},
     "output_type": "execute_result"
    }
   ],
   "source": [
    "def extract_job_title_from_result(soup):\n",
    "    jobs = []\n",
    "    for div in soup.find_all(name=\"div\", attrs={\"class\":\"row\"}):\n",
    "        for a in div.find_all(name=\"a\", attrs={\"data-tn-element\":\"jobTitle\"}):\n",
    "            jobs.append(a[\"title\"])\n",
    "    return (jobs)\n",
    "extract_job_title_from_result(soup)"
   ]
  },
  {
   "cell_type": "code",
   "execution_count": null,
   "id": "a515d127",
   "metadata": {},
   "outputs": [],
   "source": [
    "def scrape_job_details(url):\n",
    "    driver = webdriver.Chrome()\n",
    "    driver.get(url)\n",
    "    time.sleep(3)\n",
    "    p = driver.find_elements(By.CLASS_NAME,\"jobsearch-jobDescriptionText\")\n",
    "    print(p)\n",
    "    driver.close()\n",
    "    return p\n",
    "\n",
    "job_desc = scrape_job_details(current_url)"
   ]
  }
 ],
 "metadata": {
  "kernelspec": {
   "display_name": "Python 3 (ipykernel)",
   "language": "python",
   "name": "python3"
  },
  "language_info": {
   "codemirror_mode": {
    "name": "ipython",
    "version": 3
   },
   "file_extension": ".py",
   "mimetype": "text/x-python",
   "name": "python",
   "nbconvert_exporter": "python",
   "pygments_lexer": "ipython3",
   "version": "3.10.6"
  }
 },
 "nbformat": 4,
 "nbformat_minor": 5
}
